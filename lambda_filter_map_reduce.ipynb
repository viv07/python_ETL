{
 "cells": [
  {
   "cell_type": "code",
   "execution_count": 43,
   "metadata": {},
   "outputs": [
    {
     "name": "stdout",
     "output_type": "stream",
     "text": [
      "64\n",
      "5\n",
      "64\n",
      "<function <lambda> at 0x0000019DC7BF5BF8>\n"
     ]
    }
   ],
   "source": [
    "#lambda function\n",
    "# def keyword is used to define the normal functions and the lambda keyword is used to create anonymous functions\n",
    "#syntax: lambda arguments: expression\n",
    "g=lambda x:x*x*x\n",
    "print(g(4))\n",
    "\n",
    "f=lambda x:x+2\n",
    "print(f(3))\n",
    "\n",
    "fun=lambda x,y:x**y\n",
    "print(fun(4,3))\n",
    "\n",
    "#Lambda functions can be used along with built-in functions like filter(), map() and reduce().\n",
    "\n",
    "#we cant pass list element to lambda fun, it throws type error\n",
    "l=[3,5,8,2,9]\n",
    "\n",
    "print(func)\n",
    "#func=lambda x:(x%2!=0)\n",
    "#print(func([3,5,8,2,9]))\n",
    "\n",
    "#list cant be put as argument to a lambda func\n",
    "#func=lambda x:x**2\n",
    "#print(func(l))\n",
    "#func will throw typeerror\n",
    "#TypeError: unsupported operand type(s) for ** or pow(): 'list' and 'int'"
   ]
  },
  {
   "cell_type": "code",
   "execution_count": 42,
   "metadata": {},
   "outputs": [
    {
     "name": "stdout",
     "output_type": "stream",
     "text": [
      "[3, 5, 9]\n",
      "[3, 5, 8, 2, 9]\n",
      "[3, 5, 8, 2, 9]\n",
      "[1, 3, 5, 7, 9]\n"
     ]
    }
   ],
   "source": [
    "#lmbda with filter\n",
    "#The filter() function in Python takes in a function and a list as arguments.\n",
    "#below program return odd number form an input list\n",
    "l=[3,5,8,2,9]\n",
    "odd=list(filter(lambda x: (x%2!=0),l))\n",
    "print(odd)\n",
    "\n",
    "#below program doesnt perform the expected operation of power\n",
    "#expression simply let the list values passed without power\n",
    "power=list(filter(lambda x: (x**3),l))\n",
    "print(power)\n",
    "\n",
    "add=list(filter(lambda x: (x+2),l))\n",
    "print(add) #not working with filter\n",
    "\n",
    "con=list(filter(lambda y: (y%2!=0), range(10)))\n",
    "print(con)\n"
   ]
  },
  {
   "cell_type": "code",
   "execution_count": 39,
   "metadata": {},
   "outputs": [
    {
     "name": "stdout",
     "output_type": "stream",
     "text": [
      "[9, 25, 64, 4, 81]\n",
      "[5, 7, 10, 4, 11]\n",
      "[1, 9, 25, 49, 81]\n"
     ]
    }
   ],
   "source": [
    "#lambda with map\n",
    "#The map() function in Python takes in a function and a list as argument. \n",
    "#The function is called with a lambda function and a list and a new list is returned \n",
    "#which contains all the lambda modified items returned by that function for each item\n",
    "l=[3,5,8,2,9]\n",
    "power=list(map(lambda x: (x**2),l))\n",
    "print(power)\n",
    "\n",
    "#using map function with lambda we can perform mathematical function\n",
    "\n",
    "add=list(map(lambda x: (x+2),l))\n",
    "print(add)\n",
    "\n",
    "#trying with conditionals map and filter in combination\n",
    "my_sum = list(map(lambda x: x * x, filter(lambda y: (y%2!=0), range(10))))\n",
    "print(my_sum)\n",
    "\n"
   ]
  },
  {
   "cell_type": "code",
   "execution_count": null,
   "metadata": {},
   "outputs": [],
   "source": []
  }
 ],
 "metadata": {
  "kernelspec": {
   "display_name": "Python 3",
   "language": "python",
   "name": "python3"
  },
  "language_info": {
   "codemirror_mode": {
    "name": "ipython",
    "version": 3
   },
   "file_extension": ".py",
   "mimetype": "text/x-python",
   "name": "python",
   "nbconvert_exporter": "python",
   "pygments_lexer": "ipython3",
   "version": "3.7.3"
  }
 },
 "nbformat": 4,
 "nbformat_minor": 2
}
