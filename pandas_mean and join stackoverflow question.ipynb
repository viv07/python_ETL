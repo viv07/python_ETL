{
 "cells": [
  {
   "cell_type": "code",
   "execution_count": 2,
   "metadata": {},
   "outputs": [],
   "source": [
    "import pandas as pd"
   ]
  },
  {
   "cell_type": "code",
   "execution_count": 19,
   "metadata": {},
   "outputs": [
    {
     "name": "stdout",
     "output_type": "stream",
     "text": [
      "    test    x  y\n",
      "0      1   10  1\n",
      "1      3    7  2\n",
      "2      1  165  3\n",
      "3      1  305  5\n",
      "4      3  100  6\n",
      "5      2   15  4\n",
      "6      2    5  6\n",
      "7      1    3  7\n",
      "8      3   45  2\n",
      "9      3  100  6\n",
      "10     3   10  5\n",
      "11     3   10  7\n",
      "12     4    5  5\n",
      "13     1   25  5\n",
      "14     1   13  2\n"
     ]
    }
   ],
   "source": [
    "df=pd.read_csv(r'Downloads\\test.txt',delimiter=',',encoding='utf-8')\n",
    "print(df)"
   ]
  },
  {
   "cell_type": "code",
   "execution_count": 29,
   "metadata": {},
   "outputs": [
    {
     "name": "stdout",
     "output_type": "stream",
     "text": [
      "    test    x  y\n",
      "0      1   10  1\n",
      "2      1  165  3\n",
      "3      1  305  5\n",
      "7      1    3  7\n",
      "13     1   25  5\n",
      "14     1   13  2\n",
      "5      2   15  4\n",
      "6      2    5  6\n",
      "1      3    7  2\n",
      "4      3  100  6\n",
      "8      3   45  2\n",
      "9      3  100  6\n",
      "10     3   10  5\n",
      "11     3   10  7\n",
      "12     4    5  5\n"
     ]
    }
   ],
   "source": [
    "df_sort=df.sort_values(\"test\")\n",
    "print(df_sort)"
   ]
  },
  {
   "cell_type": "code",
   "execution_count": 30,
   "metadata": {},
   "outputs": [
    {
     "name": "stdout",
     "output_type": "stream",
     "text": [
      "    test    x  y\n",
      "3      1  305  5\n",
      "7      1    3  7\n",
      "13     1   25  5\n",
      "6      2    5  6\n",
      "4      3  100  6\n",
      "9      3  100  6\n",
      "10     3   10  5\n",
      "11     3   10  7\n",
      "12     4    5  5\n"
     ]
    }
   ],
   "source": [
    "#filter rows\n",
    "df_filter=df_sort[df_sort['y']>=5]\n",
    "print(df_filter)"
   ]
  },
  {
   "cell_type": "code",
   "execution_count": 33,
   "metadata": {},
   "outputs": [
    {
     "name": "stdout",
     "output_type": "stream",
     "text": [
      "test\n",
      "1    111\n",
      "2      5\n",
      "3     55\n",
      "4      5\n",
      "Name: x, dtype: int64\n"
     ]
    }
   ],
   "source": [
    "df_agg=df_filter.groupby(['test'])['x'].mean()\n",
    "print(df_agg)"
   ]
  },
  {
   "cell_type": "code",
   "execution_count": 40,
   "metadata": {},
   "outputs": [
    {
     "name": "stdout",
     "output_type": "stream",
     "text": [
      "    test  x_x  y  x_y\n",
      "0      1   10  1  111\n",
      "1      1  165  3  111\n",
      "2      1  305  5  111\n",
      "3      1    3  7  111\n",
      "4      1   25  5  111\n",
      "5      1   13  2  111\n",
      "6      2   15  4    5\n",
      "7      2    5  6    5\n",
      "8      3    7  2   55\n",
      "9      3  100  6   55\n",
      "10     3   45  2   55\n",
      "11     3  100  6   55\n",
      "12     3   10  5   55\n",
      "13     3   10  7   55\n",
      "14     4    5  5    5\n"
     ]
    }
   ],
   "source": [
    "#now join the dataframes df_agg and df_sort\n",
    "df_final=pd.merge(df_sort[['test','x','y']],df_agg,on='test')\n",
    "#result_in=pd.merge(df1,df2[['deptno','dname','loc']],on='deptno',indicator=True)\n",
    "print(df_final)"
   ]
  }
 ],
 "metadata": {
  "kernelspec": {
   "display_name": "Python 3",
   "language": "python",
   "name": "python3"
  },
  "language_info": {
   "codemirror_mode": {
    "name": "ipython",
    "version": 3
   },
   "file_extension": ".py",
   "mimetype": "text/x-python",
   "name": "python",
   "nbconvert_exporter": "python",
   "pygments_lexer": "ipython3",
   "version": "3.7.3"
  }
 },
 "nbformat": 4,
 "nbformat_minor": 2
}
