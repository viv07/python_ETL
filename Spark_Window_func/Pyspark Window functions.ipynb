{
 "cells": [
  {
   "cell_type": "code",
   "execution_count": 1,
   "metadata": {},
   "outputs": [
    {
     "name": "stdout",
     "output_type": "stream",
     "text": [
      "modules imported\n"
     ]
    }
   ],
   "source": [
    "import findspark\n",
    "findspark.init('D:\\spark-2.3.3-bin-hadoop2.7')\n",
    "import pyspark\n",
    "from pyspark.sql import SparkSession\n",
    "print('modules imported')"
   ]
  },
  {
   "cell_type": "code",
   "execution_count": 2,
   "metadata": {},
   "outputs": [],
   "source": [
    "spark=SparkSession.builder.appName('Spark_window_functions').getOrCreate()"
   ]
  },
  {
   "cell_type": "code",
   "execution_count": 4,
   "metadata": {},
   "outputs": [
    {
     "name": "stdout",
     "output_type": "stream",
     "text": [
      "+-----+------+---------+----+---------+----+----+------+\n",
      "|EMPNO| ENAME|      JOB| MGR| HIREDATE| SAL|COMM|DEPTNO|\n",
      "+-----+------+---------+----+---------+----+----+------+\n",
      "| 7369| SMITH|    CLERK|7902|17-Dec-80| 800|null|    20|\n",
      "| 7499| ALLEN| SALESMAN|7698|20-Feb-81|1600| 300|    30|\n",
      "| 7521|  WARD| SALESMAN|7698|22-Feb-81|1250| 500|    30|\n",
      "| 7566| JONES|  MANAGER|7839| 2-Apr-81|2975|null|    20|\n",
      "| 7654|MARTIN| SALESMAN|7698|28-Sep-81|1250|1400|    30|\n",
      "| 7698| BLAKE|  MANAGER|7839| 1-May-81|2850|null|    30|\n",
      "| 7782| CLARK|  MANAGER|7839| 9-Jun-81|2450|null|    10|\n",
      "| 7788| SCOTT|  ANALYST|7566|19-Apr-87|3000|null|    20|\n",
      "| 7839|  KING|PRESIDENT|null|17-Nov-81|5000|null|    10|\n",
      "| 7844|TURNER| SALESMAN|7698| 8-Sep-81|1500|   0|    30|\n",
      "+-----+------+---------+----+---------+----+----+------+\n",
      "only showing top 10 rows\n",
      "\n"
     ]
    }
   ],
   "source": [
    "emp_df=spark.read.csv(r'emp.csv',header=True,inferSchema=True)\n",
    "emp_df.show(10)"
   ]
  },
  {
   "cell_type": "code",
   "execution_count": 24,
   "metadata": {},
   "outputs": [],
   "source": [
    "from pyspark.sql.window import Window\n",
    "from pyspark.sql.functions import col,row_number,rank, dense_rank,avg"
   ]
  },
  {
   "cell_type": "markdown",
   "metadata": {},
   "source": [
    "# top N salaries in a department using spark window function"
   ]
  },
  {
   "cell_type": "code",
   "execution_count": 11,
   "metadata": {},
   "outputs": [],
   "source": [
    "win_func=Window.partitionBy(emp_df['DEPTNO']).orderBy(emp_df['SAL'].desc())"
   ]
  },
  {
   "cell_type": "markdown",
   "metadata": {},
   "source": [
    "# row_number()"
   ]
  },
  {
   "cell_type": "code",
   "execution_count": 13,
   "metadata": {},
   "outputs": [
    {
     "name": "stdout",
     "output_type": "stream",
     "text": [
      "+-----+------+---------+----+---------+----+----+------+----+\n",
      "|EMPNO| ENAME|      JOB| MGR| HIREDATE| SAL|COMM|DEPTNO|rank|\n",
      "+-----+------+---------+----+---------+----+----+------+----+\n",
      "| 7788| SCOTT|  ANALYST|7566|19-Apr-87|3000|null|    20|   1|\n",
      "| 7902|  FORD|  ANALYST|7566| 3-Dec-81|3000|null|    20|   2|\n",
      "| 7566| JONES|  MANAGER|7839| 2-Apr-81|2975|null|    20|   3|\n",
      "| 7876| ADAMS|    CLERK|7788|23-May-87|1100|null|    20|   4|\n",
      "| 7369| SMITH|    CLERK|7902|17-Dec-80| 800|null|    20|   5|\n",
      "| 7839|  KING|PRESIDENT|null|17-Nov-81|5000|null|    10|   1|\n",
      "| 7782| CLARK|  MANAGER|7839| 9-Jun-81|2450|null|    10|   2|\n",
      "| 7934|MILLER|    CLERK|7782|23-Jan-82|1300|null|    10|   3|\n",
      "| 7698| BLAKE|  MANAGER|7839| 1-May-81|2850|null|    30|   1|\n",
      "| 7499| ALLEN| SALESMAN|7698|20-Feb-81|1600| 300|    30|   2|\n",
      "| 7844|TURNER| SALESMAN|7698| 8-Sep-81|1500|   0|    30|   3|\n",
      "| 7521|  WARD| SALESMAN|7698|22-Feb-81|1250| 500|    30|   4|\n",
      "| 7654|MARTIN| SALESMAN|7698|28-Sep-81|1250|1400|    30|   5|\n",
      "| 7900| JAMES|    CLERK|7698| 3-Dec-81| 950|null|    30|   6|\n",
      "+-----+------+---------+----+---------+----+----+------+----+\n",
      "\n"
     ]
    }
   ],
   "source": [
    "emp_df.withColumn('rank',row_number().over(win_func)).show()"
   ]
  },
  {
   "cell_type": "code",
   "execution_count": 47,
   "metadata": {},
   "outputs": [
    {
     "name": "stdout",
     "output_type": "stream",
     "text": [
      "+-----+------+---------+----+---------+----+----+------+----+\n",
      "|EMPNO| ENAME|      JOB| MGR| HIREDATE| SAL|COMM|DEPTNO|rank|\n",
      "+-----+------+---------+----+---------+----+----+------+----+\n",
      "| 7788| SCOTT|  ANALYST|7566|19-Apr-87|3000|null|    20|   1|\n",
      "| 7902|  FORD|  ANALYST|7566| 3-Dec-81|3000|null|    20|   2|\n",
      "| 7566| JONES|  MANAGER|7839| 2-Apr-81|2975|null|    20|   3|\n",
      "| 7839|  KING|PRESIDENT|null|17-Nov-81|5000|null|    10|   1|\n",
      "| 7782| CLARK|  MANAGER|7839| 9-Jun-81|2450|null|    10|   2|\n",
      "| 7934|MILLER|    CLERK|7782|23-Jan-82|1300|null|    10|   3|\n",
      "| 7698| BLAKE|  MANAGER|7839| 1-May-81|2850|null|    30|   1|\n",
      "| 7499| ALLEN| SALESMAN|7698|20-Feb-81|1600| 300|    30|   2|\n",
      "| 7844|TURNER| SALESMAN|7698| 8-Sep-81|1500|   0|    30|   3|\n",
      "+-----+------+---------+----+---------+----+----+------+----+\n",
      "\n"
     ]
    }
   ],
   "source": [
    "emp_df.withColumn('rank',row_number().over(win_func)).filter('rank<=3').show()"
   ]
  },
  {
   "cell_type": "markdown",
   "metadata": {},
   "source": [
    "# rank()"
   ]
  },
  {
   "cell_type": "code",
   "execution_count": 17,
   "metadata": {},
   "outputs": [
    {
     "name": "stdout",
     "output_type": "stream",
     "text": [
      "+-----+------+---------+----+---------+----+----+------+----+\n",
      "|EMPNO| ENAME|      JOB| MGR| HIREDATE| SAL|COMM|DEPTNO|rank|\n",
      "+-----+------+---------+----+---------+----+----+------+----+\n",
      "| 7788| SCOTT|  ANALYST|7566|19-Apr-87|3000|null|    20|   1|\n",
      "| 7902|  FORD|  ANALYST|7566| 3-Dec-81|3000|null|    20|   1|\n",
      "| 7566| JONES|  MANAGER|7839| 2-Apr-81|2975|null|    20|   3|\n",
      "| 7876| ADAMS|    CLERK|7788|23-May-87|1100|null|    20|   4|\n",
      "| 7369| SMITH|    CLERK|7902|17-Dec-80| 800|null|    20|   5|\n",
      "| 7839|  KING|PRESIDENT|null|17-Nov-81|5000|null|    10|   1|\n",
      "| 7782| CLARK|  MANAGER|7839| 9-Jun-81|2450|null|    10|   2|\n",
      "| 7934|MILLER|    CLERK|7782|23-Jan-82|1300|null|    10|   3|\n",
      "| 7698| BLAKE|  MANAGER|7839| 1-May-81|2850|null|    30|   1|\n",
      "| 7499| ALLEN| SALESMAN|7698|20-Feb-81|1600| 300|    30|   2|\n",
      "| 7844|TURNER| SALESMAN|7698| 8-Sep-81|1500|   0|    30|   3|\n",
      "| 7521|  WARD| SALESMAN|7698|22-Feb-81|1250| 500|    30|   4|\n",
      "| 7654|MARTIN| SALESMAN|7698|28-Sep-81|1250|1400|    30|   4|\n",
      "| 7900| JAMES|    CLERK|7698| 3-Dec-81| 950|null|    30|   6|\n",
      "+-----+------+---------+----+---------+----+----+------+----+\n",
      "\n"
     ]
    }
   ],
   "source": [
    "emp_df.withColumn('rank',rank().over(win_func)).show()"
   ]
  },
  {
   "cell_type": "code",
   "execution_count": 18,
   "metadata": {},
   "outputs": [
    {
     "name": "stdout",
     "output_type": "stream",
     "text": [
      "+-----+------+---------+----+---------+----+----+------+----+\n",
      "|EMPNO| ENAME|      JOB| MGR| HIREDATE| SAL|COMM|DEPTNO|rank|\n",
      "+-----+------+---------+----+---------+----+----+------+----+\n",
      "| 7788| SCOTT|  ANALYST|7566|19-Apr-87|3000|null|    20|   1|\n",
      "| 7902|  FORD|  ANALYST|7566| 3-Dec-81|3000|null|    20|   1|\n",
      "| 7566| JONES|  MANAGER|7839| 2-Apr-81|2975|null|    20|   3|\n",
      "| 7839|  KING|PRESIDENT|null|17-Nov-81|5000|null|    10|   1|\n",
      "| 7782| CLARK|  MANAGER|7839| 9-Jun-81|2450|null|    10|   2|\n",
      "| 7934|MILLER|    CLERK|7782|23-Jan-82|1300|null|    10|   3|\n",
      "| 7698| BLAKE|  MANAGER|7839| 1-May-81|2850|null|    30|   1|\n",
      "| 7499| ALLEN| SALESMAN|7698|20-Feb-81|1600| 300|    30|   2|\n",
      "| 7844|TURNER| SALESMAN|7698| 8-Sep-81|1500|   0|    30|   3|\n",
      "+-----+------+---------+----+---------+----+----+------+----+\n",
      "\n"
     ]
    }
   ],
   "source": [
    "emp_df.withColumn('rank',rank().over(win_func)).filter('rank<=3').show()"
   ]
  },
  {
   "cell_type": "markdown",
   "metadata": {},
   "source": [
    "# dense_rank()"
   ]
  },
  {
   "cell_type": "code",
   "execution_count": 20,
   "metadata": {},
   "outputs": [
    {
     "name": "stdout",
     "output_type": "stream",
     "text": [
      "+-----+------+---------+----+---------+----+----+------+----+\n",
      "|EMPNO| ENAME|      JOB| MGR| HIREDATE| SAL|COMM|DEPTNO|rank|\n",
      "+-----+------+---------+----+---------+----+----+------+----+\n",
      "| 7788| SCOTT|  ANALYST|7566|19-Apr-87|3000|null|    20|   1|\n",
      "| 7902|  FORD|  ANALYST|7566| 3-Dec-81|3000|null|    20|   1|\n",
      "| 7566| JONES|  MANAGER|7839| 2-Apr-81|2975|null|    20|   2|\n",
      "| 7876| ADAMS|    CLERK|7788|23-May-87|1100|null|    20|   3|\n",
      "| 7369| SMITH|    CLERK|7902|17-Dec-80| 800|null|    20|   4|\n",
      "| 7839|  KING|PRESIDENT|null|17-Nov-81|5000|null|    10|   1|\n",
      "| 7782| CLARK|  MANAGER|7839| 9-Jun-81|2450|null|    10|   2|\n",
      "| 7934|MILLER|    CLERK|7782|23-Jan-82|1300|null|    10|   3|\n",
      "| 7698| BLAKE|  MANAGER|7839| 1-May-81|2850|null|    30|   1|\n",
      "| 7499| ALLEN| SALESMAN|7698|20-Feb-81|1600| 300|    30|   2|\n",
      "| 7844|TURNER| SALESMAN|7698| 8-Sep-81|1500|   0|    30|   3|\n",
      "| 7521|  WARD| SALESMAN|7698|22-Feb-81|1250| 500|    30|   4|\n",
      "| 7654|MARTIN| SALESMAN|7698|28-Sep-81|1250|1400|    30|   4|\n",
      "| 7900| JAMES|    CLERK|7698| 3-Dec-81| 950|null|    30|   5|\n",
      "+-----+------+---------+----+---------+----+----+------+----+\n",
      "\n"
     ]
    }
   ],
   "source": [
    "emp_df.withColumn('rank',dense_rank().over(win_func)).show()"
   ]
  },
  {
   "cell_type": "code",
   "execution_count": 21,
   "metadata": {},
   "outputs": [
    {
     "name": "stdout",
     "output_type": "stream",
     "text": [
      "+-----+------+---------+----+---------+----+----+------+----+\n",
      "|EMPNO| ENAME|      JOB| MGR| HIREDATE| SAL|COMM|DEPTNO|rank|\n",
      "+-----+------+---------+----+---------+----+----+------+----+\n",
      "| 7788| SCOTT|  ANALYST|7566|19-Apr-87|3000|null|    20|   1|\n",
      "| 7902|  FORD|  ANALYST|7566| 3-Dec-81|3000|null|    20|   1|\n",
      "| 7566| JONES|  MANAGER|7839| 2-Apr-81|2975|null|    20|   2|\n",
      "| 7876| ADAMS|    CLERK|7788|23-May-87|1100|null|    20|   3|\n",
      "| 7839|  KING|PRESIDENT|null|17-Nov-81|5000|null|    10|   1|\n",
      "| 7782| CLARK|  MANAGER|7839| 9-Jun-81|2450|null|    10|   2|\n",
      "| 7934|MILLER|    CLERK|7782|23-Jan-82|1300|null|    10|   3|\n",
      "| 7698| BLAKE|  MANAGER|7839| 1-May-81|2850|null|    30|   1|\n",
      "| 7499| ALLEN| SALESMAN|7698|20-Feb-81|1600| 300|    30|   2|\n",
      "| 7844|TURNER| SALESMAN|7698| 8-Sep-81|1500|   0|    30|   3|\n",
      "+-----+------+---------+----+---------+----+----+------+----+\n",
      "\n"
     ]
    }
   ],
   "source": [
    "emp_df.withColumn('rank',dense_rank().over(win_func)).filter('rank<=3').show()"
   ]
  },
  {
   "cell_type": "markdown",
   "metadata": {},
   "source": [
    "# running average of salary"
   ]
  },
  {
   "cell_type": "code",
   "execution_count": 50,
   "metadata": {},
   "outputs": [
    {
     "name": "stdout",
     "output_type": "stream",
     "text": [
      "+-----+------+---------+----+---------+----+----+------+------------------+\n",
      "|EMPNO| ENAME|      JOB| MGR| HIREDATE| SAL|COMM|DEPTNO|     run_sal_range|\n",
      "+-----+------+---------+----+---------+----+----+------+------------------+\n",
      "| 7782| CLARK|  MANAGER|7839| 9-Jun-81|2450|null|    10|2916.6666666666665|\n",
      "| 7839|  KING|PRESIDENT|null|17-Nov-81|5000|null|    10|2916.6666666666665|\n",
      "| 7934|MILLER|    CLERK|7782|23-Jan-82|1300|null|    10|2916.6666666666665|\n",
      "| 7369| SMITH|    CLERK|7902|17-Dec-80| 800|null|    20|          2453.125|\n",
      "| 7566| JONES|  MANAGER|7839| 2-Apr-81|2975|null|    20|          2453.125|\n",
      "| 7788| SCOTT|  ANALYST|7566|19-Apr-87|3000|null|    20|          2453.125|\n",
      "| 7876| ADAMS|    CLERK|7788|23-May-87|1100|null|    20|          2453.125|\n",
      "| 7902|  FORD|  ANALYST|7566| 3-Dec-81|3000|null|    20|          2453.125|\n",
      "| 7499| ALLEN| SALESMAN|7698|20-Feb-81|1600| 300|    30| 2073.214285714286|\n",
      "| 7521|  WARD| SALESMAN|7698|22-Feb-81|1250| 500|    30| 2073.214285714286|\n",
      "| 7654|MARTIN| SALESMAN|7698|28-Sep-81|1250|1400|    30| 2073.214285714286|\n",
      "| 7698| BLAKE|  MANAGER|7839| 1-May-81|2850|null|    30| 2073.214285714286|\n",
      "| 7844|TURNER| SALESMAN|7698| 8-Sep-81|1500|   0|    30| 2073.214285714286|\n",
      "| 7900| JAMES|    CLERK|7698| 3-Dec-81| 950|null|    30| 2073.214285714286|\n",
      "+-----+------+---------+----+---------+----+----+------+------------------+\n",
      "\n"
     ]
    }
   ],
   "source": [
    "from pyspark.sql import functions as f\n",
    "\n",
    "\n",
    "window_range=Window.orderBy(emp_df['DEPTNO']).rangeBetween(Window.unboundedPreceding,Window.currentRow)\n",
    "\n",
    "emp_df.withColumn('run_sal_range',f.avg('SAL').over(window_range)).show() \n",
    "#output matches with oracle query"
   ]
  },
  {
   "cell_type": "code",
   "execution_count": 51,
   "metadata": {},
   "outputs": [
    {
     "name": "stdout",
     "output_type": "stream",
     "text": [
      "+-----+------+---------+----+---------+----+----+------+------------------+\n",
      "|EMPNO| ENAME|      JOB| MGR| HIREDATE| SAL|COMM|DEPTNO|           run_sal|\n",
      "+-----+------+---------+----+---------+----+----+------+------------------+\n",
      "| 7934|MILLER|    CLERK|7782|23-Jan-82|1300|null|    10|            1300.0|\n",
      "| 7782| CLARK|  MANAGER|7839| 9-Jun-81|2450|null|    10|            1875.0|\n",
      "| 7839|  KING|PRESIDENT|null|17-Nov-81|5000|null|    10|2916.6666666666665|\n",
      "| 7369| SMITH|    CLERK|7902|17-Dec-80| 800|null|    20|            2387.5|\n",
      "| 7876| ADAMS|    CLERK|7788|23-May-87|1100|null|    20|            2130.0|\n",
      "| 7566| JONES|  MANAGER|7839| 2-Apr-81|2975|null|    20|2270.8333333333335|\n",
      "| 7788| SCOTT|  ANALYST|7566|19-Apr-87|3000|null|    20|            2375.0|\n",
      "| 7902|  FORD|  ANALYST|7566| 3-Dec-81|3000|null|    20|          2453.125|\n",
      "| 7900| JAMES|    CLERK|7698| 3-Dec-81| 950|null|    30|2286.1111111111113|\n",
      "| 7521|  WARD| SALESMAN|7698|22-Feb-81|1250| 500|    30|            2182.5|\n",
      "| 7654|MARTIN| SALESMAN|7698|28-Sep-81|1250|1400|    30|2097.7272727272725|\n",
      "| 7844|TURNER| SALESMAN|7698| 8-Sep-81|1500|   0|    30|2047.9166666666667|\n",
      "| 7499| ALLEN| SALESMAN|7698|20-Feb-81|1600| 300|    30|2013.4615384615386|\n",
      "| 7698| BLAKE|  MANAGER|7839| 1-May-81|2850|null|    30| 2073.214285714286|\n",
      "+-----+------+---------+----+---------+----+----+------+------------------+\n",
      "\n"
     ]
    }
   ],
   "source": [
    "from pyspark.sql.functions import col\n",
    "ord_col=['DEPTNO','SAL']\n",
    "\n",
    "window_runn=Window.orderBy([col(x) for x in ord_col]).rowsBetween(Window.unboundedPreceding,Window.currentRow)\n",
    "\n",
    "emp_df.withColumn('run_sal',f.avg('SAL').over(window_runn)).show()"
   ]
  },
  {
   "cell_type": "code",
   "execution_count": 52,
   "metadata": {},
   "outputs": [
    {
     "name": "stdout",
     "output_type": "stream",
     "text": [
      "+-----+------+---------+----+---------+----+----+------+------------------+\n",
      "|EMPNO| ENAME|      JOB| MGR| HIREDATE| SAL|COMM|DEPTNO|           run_sal|\n",
      "+-----+------+---------+----+---------+----+----+------+------------------+\n",
      "| 7369| SMITH|    CLERK|7902|17-Dec-80| 800|null|    20|             800.0|\n",
      "| 7876| ADAMS|    CLERK|7788|23-May-87|1100|null|    20|             950.0|\n",
      "| 7566| JONES|  MANAGER|7839| 2-Apr-81|2975|null|    20|            1625.0|\n",
      "| 7788| SCOTT|  ANALYST|7566|19-Apr-87|3000|null|    20|           1968.75|\n",
      "| 7902|  FORD|  ANALYST|7566| 3-Dec-81|3000|null|    20|            2175.0|\n",
      "| 7934|MILLER|    CLERK|7782|23-Jan-82|1300|null|    10|            1300.0|\n",
      "| 7782| CLARK|  MANAGER|7839| 9-Jun-81|2450|null|    10|            1875.0|\n",
      "| 7839|  KING|PRESIDENT|null|17-Nov-81|5000|null|    10|2916.6666666666665|\n",
      "| 7900| JAMES|    CLERK|7698| 3-Dec-81| 950|null|    30|             950.0|\n",
      "| 7521|  WARD| SALESMAN|7698|22-Feb-81|1250| 500|    30|            1100.0|\n",
      "| 7654|MARTIN| SALESMAN|7698|28-Sep-81|1250|1400|    30|            1150.0|\n",
      "| 7844|TURNER| SALESMAN|7698| 8-Sep-81|1500|   0|    30|            1237.5|\n",
      "| 7499| ALLEN| SALESMAN|7698|20-Feb-81|1600| 300|    30|            1310.0|\n",
      "| 7698| BLAKE|  MANAGER|7839| 1-May-81|2850|null|    30|1566.6666666666667|\n",
      "+-----+------+---------+----+---------+----+----+------+------------------+\n",
      "\n"
     ]
    }
   ],
   "source": [
    "from pyspark.sql.functions import col\n",
    "ord_col=['DEPTNO','SAL']\n",
    "\n",
    "window_runn=Window.partitionBy(emp_df['DEPTNO']) \\\n",
    "                    .orderBy([col(x) for x in ord_col]) \\\n",
    "                    .rowsBetween(Window.unboundedPreceding,Window.currentRow)\n",
    "\n",
    "emp_df.withColumn('run_sal',f.avg('SAL').over(window_runn)).show()"
   ]
  },
  {
   "cell_type": "code",
   "execution_count": null,
   "metadata": {},
   "outputs": [],
   "source": []
  }
 ],
 "metadata": {
  "kernelspec": {
   "display_name": "Python 3",
   "language": "python",
   "name": "python3"
  },
  "language_info": {
   "codemirror_mode": {
    "name": "ipython",
    "version": 3
   },
   "file_extension": ".py",
   "mimetype": "text/x-python",
   "name": "python",
   "nbconvert_exporter": "python",
   "pygments_lexer": "ipython3",
   "version": "3.7.3"
  }
 },
 "nbformat": 4,
 "nbformat_minor": 2
}
