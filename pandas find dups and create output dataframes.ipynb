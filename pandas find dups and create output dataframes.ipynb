{
 "cells": [
  {
   "cell_type": "code",
   "execution_count": 1,
   "metadata": {},
   "outputs": [],
   "source": [
    "import pandas as pd"
   ]
  },
  {
   "cell_type": "code",
   "execution_count": 21,
   "metadata": {},
   "outputs": [
    {
     "data": {
      "text/html": [
       "<div>\n",
       "<style scoped>\n",
       "    .dataframe tbody tr th:only-of-type {\n",
       "        vertical-align: middle;\n",
       "    }\n",
       "\n",
       "    .dataframe tbody tr th {\n",
       "        vertical-align: top;\n",
       "    }\n",
       "\n",
       "    .dataframe thead th {\n",
       "        text-align: right;\n",
       "    }\n",
       "</style>\n",
       "<table border=\"1\" class=\"dataframe\">\n",
       "  <thead>\n",
       "    <tr style=\"text-align: right;\">\n",
       "      <th></th>\n",
       "      <th>id</th>\n",
       "      <th>val</th>\n",
       "    </tr>\n",
       "  </thead>\n",
       "  <tbody>\n",
       "    <tr>\n",
       "      <th>0</th>\n",
       "      <td>10</td>\n",
       "      <td>A</td>\n",
       "    </tr>\n",
       "    <tr>\n",
       "      <th>1</th>\n",
       "      <td>20</td>\n",
       "      <td>C</td>\n",
       "    </tr>\n",
       "    <tr>\n",
       "      <th>2</th>\n",
       "      <td>30</td>\n",
       "      <td>B</td>\n",
       "    </tr>\n",
       "    <tr>\n",
       "      <th>3</th>\n",
       "      <td>20</td>\n",
       "      <td>C</td>\n",
       "    </tr>\n",
       "    <tr>\n",
       "      <th>4</th>\n",
       "      <td>30</td>\n",
       "      <td>B</td>\n",
       "    </tr>\n",
       "    <tr>\n",
       "      <th>5</th>\n",
       "      <td>10</td>\n",
       "      <td>A</td>\n",
       "    </tr>\n",
       "    <tr>\n",
       "      <th>6</th>\n",
       "      <td>10</td>\n",
       "      <td>A</td>\n",
       "    </tr>\n",
       "  </tbody>\n",
       "</table>\n",
       "</div>"
      ],
      "text/plain": [
       "   id val\n",
       "0  10   A\n",
       "1  20   C\n",
       "2  30   B\n",
       "3  20   C\n",
       "4  30   B\n",
       "5  10   A\n",
       "6  10   A"
      ]
     },
     "execution_count": 21,
     "metadata": {},
     "output_type": "execute_result"
    }
   ],
   "source": [
    "df=pd.read_csv(r'D:\\python coding\\pyspark_tutorial\\test_data.txt')\n",
    "df"
   ]
  },
  {
   "cell_type": "code",
   "execution_count": 22,
   "metadata": {},
   "outputs": [
    {
     "data": {
      "text/html": [
       "<div>\n",
       "<style scoped>\n",
       "    .dataframe tbody tr th:only-of-type {\n",
       "        vertical-align: middle;\n",
       "    }\n",
       "\n",
       "    .dataframe tbody tr th {\n",
       "        vertical-align: top;\n",
       "    }\n",
       "\n",
       "    .dataframe thead th {\n",
       "        text-align: right;\n",
       "    }\n",
       "</style>\n",
       "<table border=\"1\" class=\"dataframe\">\n",
       "  <thead>\n",
       "    <tr style=\"text-align: right;\">\n",
       "      <th></th>\n",
       "      <th>id</th>\n",
       "      <th>val</th>\n",
       "    </tr>\n",
       "  </thead>\n",
       "  <tbody>\n",
       "    <tr>\n",
       "      <th>0</th>\n",
       "      <td>10</td>\n",
       "      <td>A</td>\n",
       "    </tr>\n",
       "    <tr>\n",
       "      <th>5</th>\n",
       "      <td>10</td>\n",
       "      <td>A</td>\n",
       "    </tr>\n",
       "    <tr>\n",
       "      <th>6</th>\n",
       "      <td>10</td>\n",
       "      <td>A</td>\n",
       "    </tr>\n",
       "    <tr>\n",
       "      <th>1</th>\n",
       "      <td>20</td>\n",
       "      <td>C</td>\n",
       "    </tr>\n",
       "    <tr>\n",
       "      <th>3</th>\n",
       "      <td>20</td>\n",
       "      <td>C</td>\n",
       "    </tr>\n",
       "    <tr>\n",
       "      <th>2</th>\n",
       "      <td>30</td>\n",
       "      <td>B</td>\n",
       "    </tr>\n",
       "    <tr>\n",
       "      <th>4</th>\n",
       "      <td>30</td>\n",
       "      <td>B</td>\n",
       "    </tr>\n",
       "  </tbody>\n",
       "</table>\n",
       "</div>"
      ],
      "text/plain": [
       "   id val\n",
       "0  10   A\n",
       "5  10   A\n",
       "6  10   A\n",
       "1  20   C\n",
       "3  20   C\n",
       "2  30   B\n",
       "4  30   B"
      ]
     },
     "execution_count": 22,
     "metadata": {},
     "output_type": "execute_result"
    }
   ],
   "source": [
    "df.sort_values('id', inplace=True)\n",
    "df"
   ]
  },
  {
   "cell_type": "code",
   "execution_count": 52,
   "metadata": {},
   "outputs": [
    {
     "data": {
      "text/plain": [
       "{'id': [10, 10, 10, 20, 20, 30, 30],\n",
       " 'val': ['A', 'A', 'A', 'C', 'C', 'B', 'B']}"
      ]
     },
     "execution_count": 52,
     "metadata": {},
     "output_type": "execute_result"
    }
   ],
   "source": [
    "df_dict=df.to_dict('list')\n",
    "type(df_dict)\n",
    "df_dict"
   ]
  },
  {
   "cell_type": "code",
   "execution_count": 59,
   "metadata": {},
   "outputs": [
    {
     "name": "stdout",
     "output_type": "stream",
     "text": [
      "[['id', [10, 10, 10, 20, 20, 30, 30]], ['val', ['A', 'A', 'A', 'C', 'C', 'B', 'B']], ['id', [10, 10, 10, 20, 20, 30, 30]], ['val', ['A', 'A', 'A', 'C', 'C', 'B', 'B']], ['id', [10, 10, 10, 20, 20, 30, 30]], ['val', ['A', 'A', 'A', 'C', 'C', 'B', 'B']], ['i', 10], ['v', 'A'], ['i', 10], ['v', 'A'], ['id', 10, 'id', 10, 'id', 10, 'id', 20, 'id', 20, 'id', 30, 'id', 30], ['id', 10, 'id', 10, 'id', 10, 'id', 20, 'id', 20, 'id', 30, 'id', 30], ['id', 10, 'id', 10, 'id', 10, 'id', 20, 'id', 20, 'id', 30, 'id', 30], ['id', 10, 'id', 10, 'id', 10, 'id', 20, 'id', 20, 'id', 30, 'id', 30], ['id', 10, 'id', 10, 'id', 10, 'id', 20, 'id', 20, 'id', 30, 'id', 30], ['id', 10, 'id', 10, 'id', 10, 'id', 20, 'id', 20, 'id', 30, 'id', 30], ['id', 10, 'id', 10, 'id', 10, 'id', 20, 'id', 20, 'id', 30, 'id', 30], ['val', 'A', 'val', 'A', 'val', 'A', 'val', 'C', 'val', 'C', 'val', 'B', 'val', 'B'], ['val', 'A', 'val', 'A', 'val', 'A', 'val', 'C', 'val', 'C', 'val', 'B', 'val', 'B'], ['val', 'A', 'val', 'A', 'val', 'A', 'val', 'C', 'val', 'C', 'val', 'B', 'val', 'B'], ['val', 'A', 'val', 'A', 'val', 'A', 'val', 'C', 'val', 'C', 'val', 'B', 'val', 'B'], ['val', 'A', 'val', 'A', 'val', 'A', 'val', 'C', 'val', 'C', 'val', 'B', 'val', 'B'], ['val', 'A', 'val', 'A', 'val', 'A', 'val', 'C', 'val', 'C', 'val', 'B', 'val', 'B'], ['val', 'A', 'val', 'A', 'val', 'A', 'val', 'C', 'val', 'C', 'val', 'B', 'val', 'B'], ['id', 10, 'id', 10, 'id', 10, 'id', 20, 'id', 20, 'id', 30, 'id', 30], ['id', 10, 'id', 10, 'id', 10, 'id', 20, 'id', 20, 'id', 30, 'id', 30], ['id', 10, 'id', 10, 'id', 10, 'id', 20, 'id', 20, 'id', 30, 'id', 30], ['id', 10, 'id', 10, 'id', 10, 'id', 20, 'id', 20, 'id', 30, 'id', 30], ['id', 10, 'id', 10, 'id', 10, 'id', 20, 'id', 20, 'id', 30, 'id', 30], ['id', 10, 'id', 10, 'id', 10, 'id', 20, 'id', 20, 'id', 30, 'id', 30], ['id', 10, 'id', 10, 'id', 10, 'id', 20, 'id', 20, 'id', 30, 'id', 30], ['val', 'A', 'val', 'A', 'val', 'A', 'val', 'C', 'val', 'C', 'val', 'B', 'val', 'B'], ['val', 'A', 'val', 'A', 'val', 'A', 'val', 'C', 'val', 'C', 'val', 'B', 'val', 'B'], ['val', 'A', 'val', 'A', 'val', 'A', 'val', 'C', 'val', 'C', 'val', 'B', 'val', 'B'], ['val', 'A', 'val', 'A', 'val', 'A', 'val', 'C', 'val', 'C', 'val', 'B', 'val', 'B'], ['val', 'A', 'val', 'A', 'val', 'A', 'val', 'C', 'val', 'C', 'val', 'B', 'val', 'B'], ['val', 'A', 'val', 'A', 'val', 'A', 'val', 'C', 'val', 'C', 'val', 'B', 'val', 'B'], ['val', 'A', 'val', 'A', 'val', 'A', 'val', 'C', 'val', 'C', 'val', 'B', 'val', 'B'], ['id', 10, 'id', 10, 'id', 10, 'id', 20, 'id', 20, 'id', 30, 'id', 30], ['id', 10, 'id', 10, 'id', 10, 'id', 20, 'id', 20, 'id', 30, 'id', 30], ['id', 10, 'id', 10, 'id', 10, 'id', 20, 'id', 20, 'id', 30, 'id', 30], ['id', 10, 'id', 10, 'id', 10, 'id', 20, 'id', 20, 'id', 30, 'id', 30], ['id', 10, 'id', 10, 'id', 10, 'id', 20, 'id', 20, 'id', 30, 'id', 30], ['id', 10, 'id', 10, 'id', 10, 'id', 20, 'id', 20, 'id', 30, 'id', 30], ['id', 10, 'id', 10, 'id', 10, 'id', 20, 'id', 20, 'id', 30, 'id', 30], ['val', 'A', 'val', 'A', 'val', 'A', 'val', 'C', 'val', 'C', 'val', 'B', 'val', 'B'], ['val', 'A', 'val', 'A', 'val', 'A', 'val', 'C', 'val', 'C', 'val', 'B', 'val', 'B'], ['val', 'A', 'val', 'A', 'val', 'A', 'val', 'C', 'val', 'C', 'val', 'B', 'val', 'B'], ['val', 'A', 'val', 'A', 'val', 'A', 'val', 'C', 'val', 'C', 'val', 'B', 'val', 'B'], ['val', 'A', 'val', 'A', 'val', 'A', 'val', 'C', 'val', 'C', 'val', 'B', 'val', 'B'], ['val', 'A', 'val', 'A', 'val', 'A', 'val', 'C', 'val', 'C', 'val', 'B', 'val', 'B'], ['val', 'A', 'val', 'A', 'val', 'A', 'val', 'C', 'val', 'C', 'val', 'B', 'val', 'B'], ['id', 10, 'id', 10, 'id', 10, 'id', 20, 'id', 20, 'id', 30, 'id', 30], ['id', 10, 'id', 10, 'id', 10, 'id', 20, 'id', 20, 'id', 30, 'id', 30], ['id', 10, 'id', 10, 'id', 10, 'id', 20, 'id', 20, 'id', 30, 'id', 30], ['id', 10, 'id', 10, 'id', 10, 'id', 20, 'id', 20, 'id', 30, 'id', 30], ['id', 10, 'id', 10, 'id', 10, 'id', 20, 'id', 20, 'id', 30, 'id', 30], ['id', 10, 'id', 10, 'id', 10, 'id', 20, 'id', 20, 'id', 30, 'id', 30], ['id', 10, 'id', 10, 'id', 10, 'id', 20, 'id', 20, 'id', 30, 'id', 30], ['val', 'A', 'val', 'A', 'val', 'A', 'val', 'C', 'val', 'C', 'val', 'B', 'val', 'B'], ['val', 'A', 'val', 'A', 'val', 'A', 'val', 'C', 'val', 'C', 'val', 'B', 'val', 'B'], ['val', 'A', 'val', 'A', 'val', 'A', 'val', 'C', 'val', 'C', 'val', 'B', 'val', 'B'], ['val', 'A', 'val', 'A', 'val', 'A', 'val', 'C', 'val', 'C', 'val', 'B', 'val', 'B'], ['val', 'A', 'val', 'A', 'val', 'A', 'val', 'C', 'val', 'C', 'val', 'B', 'val', 'B'], ['val', 'A', 'val', 'A', 'val', 'A', 'val', 'C', 'val', 'C', 'val', 'B', 'val', 'B'], ['val', 'A', 'val', 'A', 'val', 'A', 'val', 'C', 'val', 'C', 'val', 'B', 'val', 'B']]\n"
     ]
    }
   ],
   "source": [
    "dict_list=[]\n",
    "l=[]\n",
    "for i,j in df_dict.items():\n",
    "    row=[]\n",
    "    for k in j:\n",
    "        row.append(i)\n",
    "        row.append(k)\n",
    "        l.append(row)\n",
    "        "
   ]
  },
  {
   "cell_type": "code",
   "execution_count": 44,
   "metadata": {},
   "outputs": [
    {
     "name": "stdout",
     "output_type": "stream",
     "text": [
      "[10, 10, 10, 20, 20, 30, 30]\n",
      "['A', 'A', 'A', 'C', 'C', 'B', 'B']\n",
      "[]\n",
      "[]\n"
     ]
    }
   ],
   "source": [
    "#print(df.iloc[:,0].to_list())\n",
    "\n",
    "l1=[]\n",
    "l2=[]\n",
    "\n",
    "\n",
    "for key,value in df_dict.items():\n",
    "    if df_dict[key] not in l1:\n",
    "        print(df_dict[key])\n",
    "        r1=[]\n",
    "        a=r1.append(key)\n",
    "        b=r1.append(value)\n",
    "        #l1.append(r1)\n",
    "    else:\n",
    "        r2=[]\n",
    "        r2.append(key)\n",
    "        r2.append(value)\n",
    "        l2.append(r2)\n",
    "        \n",
    "print(l1)    \n",
    "print(l2)        "
   ]
  },
  {
   "cell_type": "code",
   "execution_count": 55,
   "metadata": {},
   "outputs": [
    {
     "name": "stdout",
     "output_type": "stream",
     "text": [
      "blue\n",
      "sky\n",
      "blue\n",
      "jeans\n",
      "blue\n",
      "powerline insert mode\n",
      "yellow\n",
      "sun\n",
      "yellow\n",
      "banana\n",
      "yellow\n",
      "phone book/monitor stand\n",
      "red\n",
      "blood\n",
      "red\n",
      "tomato\n",
      "red\n",
      "test failure\n"
     ]
    }
   ],
   "source": [
    "COLORED_THINGS = {'blue': ['sky', 'jeans', 'powerline insert mode'],\n",
    "                  'yellow': ['sun', 'banana', 'phone book/monitor stand'],\n",
    "                  'red': ['blood', 'tomato', 'test failure']}\n",
    "\"\"\" Nested for loops. \"\"\"\n",
    "for color, things in COLORED_THINGS.items():\n",
    "    for thing in things:\n",
    "        print(color)\n",
    "        print(thing)"
   ]
  },
  {
   "cell_type": "code",
   "execution_count": 18,
   "metadata": {},
   "outputs": [
    {
     "name": "stdout",
     "output_type": "stream",
     "text": [
      "[['Tablet', 250], ['iPhone', 800], ['Laptop', 1200], ['Monitor', 300]]\n"
     ]
    }
   ],
   "source": [
    "from pandas import DataFrame\n",
    "\n",
    "Products = {'Product': ['Tablet','iPhone','Laptop','Monitor'],\n",
    "            'Price': [250,800,1200,300]\n",
    "            }\n",
    "\n",
    "df = DataFrame(Products, columns= ['Product', 'Price'])\n",
    "\n",
    "Products_list = df.values.tolist()\n",
    "print (Products_list)"
   ]
  }
 ],
 "metadata": {
  "kernelspec": {
   "display_name": "Python 3",
   "language": "python",
   "name": "python3"
  },
  "language_info": {
   "codemirror_mode": {
    "name": "ipython",
    "version": 3
   },
   "file_extension": ".py",
   "mimetype": "text/x-python",
   "name": "python",
   "nbconvert_exporter": "python",
   "pygments_lexer": "ipython3",
   "version": "3.7.3"
  }
 },
 "nbformat": 4,
 "nbformat_minor": 2
}
