{
 "cells": [
  {
   "cell_type": "code",
   "execution_count": 8,
   "metadata": {},
   "outputs": [
    {
     "name": "stdout",
     "output_type": "stream",
     "text": [
      "Modules Imported\n"
     ]
    }
   ],
   "source": [
    "import findspark\n",
    "findspark.init('D:\\spark-2.3.3-bin-hadoop2.7')\n",
    "import pyspark\n",
    "from pyspark.sql import SparkSession\n",
    "from pyspark import SparkContext, SparkConf\n",
    "print('Modules Imported')"
   ]
  },
  {
   "cell_type": "code",
   "execution_count": 22,
   "metadata": {},
   "outputs": [],
   "source": [
    "spark=SparkSession.builder.appName('pyspark_practice').getOrCreate()\n",
    "#sc=SparkContext()"
   ]
  },
  {
   "cell_type": "code",
   "execution_count": null,
   "metadata": {},
   "outputs": [],
   "source": [
    "#parallelize()\n",
    "#parallelize() distribute a local python collection to form an RDD.\n",
    "#Common built-in python collections include dist, list, tuple or set."
   ]
  },
  {
   "cell_type": "code",
   "execution_count": 33,
   "metadata": {},
   "outputs": [
    {
     "name": "stdout",
     "output_type": "stream",
     "text": [
      "[1, 2, 3]\n"
     ]
    },
    {
     "data": {
      "text/plain": [
       "pyspark.rdd.RDD"
      ]
     },
     "execution_count": 33,
     "metadata": {},
     "output_type": "execute_result"
    }
   ],
   "source": [
    "#below command is use to create and rdd\n",
    "#1. using a list\n",
    "rdd_list=spark.sparkContext.parallelize([1,2,3])\n",
    "#to print element of an rdd\n",
    "#use collect()\n",
    "print(rdd.collect())\n",
    "type(rdd_list)"
   ]
  },
  {
   "cell_type": "code",
   "execution_count": 21,
   "metadata": {},
   "outputs": [
    {
     "data": {
      "text/plain": [
       "['cat', 'dog', 'fish']"
      ]
     },
     "execution_count": 21,
     "metadata": {},
     "output_type": "execute_result"
    }
   ],
   "source": [
    "#2. rdd from tuple\n",
    "rdd_tuple=spark.sparkContext.parallelize(('cat', 'dog', 'fish'))\n",
    "rdd_tuple.collect()"
   ]
  },
  {
   "cell_type": "code",
   "execution_count": 25,
   "metadata": {},
   "outputs": [
    {
     "data": {
      "text/plain": [
       "[('cat', 'dog', 'fish'), ('orange', 'apple')]"
      ]
     },
     "execution_count": 25,
     "metadata": {},
     "output_type": "execute_result"
    }
   ],
   "source": [
    "#3. rdd from a list of tuple\n",
    "list_t = [('cat', 'dog', 'fish'), ('orange', 'apple')]\n",
    "rdd_lt=spark.sparkContext.parallelize(list_t)\n",
    "rdd_lt.collect()"
   ]
  },
  {
   "cell_type": "code",
   "execution_count": 35,
   "metadata": {},
   "outputs": [
    {
     "data": {
      "text/plain": [
       "pyspark.rdd.RDD"
      ]
     },
     "execution_count": 35,
     "metadata": {},
     "output_type": "execute_result"
    }
   ],
   "source": [
    "#4. from a dictionary\n",
    "dict_rdd={10:'Admin',2:'IT',3:'Ops',4:'Sales'}\n",
    "rdd_dict=spark.sparkContext.parallelize(dict_rdd)\n",
    "rdd_dict.collect()\n",
    "#collect returns all the elements of rdd\n",
    "type(rdd_dict)"
   ]
  },
  {
   "cell_type": "code",
   "execution_count": 34,
   "metadata": {},
   "outputs": [
    {
     "data": {
      "text/plain": [
       "pyspark.rdd.RDD"
      ]
     },
     "execution_count": 34,
     "metadata": {},
     "output_type": "execute_result"
    }
   ],
   "source": [
    "#textFile()\n",
    "#The textFile() function reads a text file and returns it as an RDD of strings. \n",
    "#Usually, you will need to apply some map functions to transform each elements \n",
    "#of the RDD to some data structure/type that is suitable for data analysis.\n",
    "#When using textFile(), each line of the text file becomes an element in the resulting RDD.\n",
    "rdd_text=spark.sparkContext.textFile(r'D:\\python coding\\pyspark_tutorial\\mtcars.csv')\n",
    "rdd_text.take(5)\n",
    "type(rdd_text)"
   ]
  }
 ],
 "metadata": {
  "kernelspec": {
   "display_name": "Python 3",
   "language": "python",
   "name": "python3"
  },
  "language_info": {
   "codemirror_mode": {
    "name": "ipython",
    "version": 3
   },
   "file_extension": ".py",
   "mimetype": "text/x-python",
   "name": "python",
   "nbconvert_exporter": "python",
   "pygments_lexer": "ipython3",
   "version": "3.7.3"
  }
 },
 "nbformat": 4,
 "nbformat_minor": 2
}
