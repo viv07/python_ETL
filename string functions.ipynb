{
 "cells": [
  {
   "cell_type": "code",
   "execution_count": 37,
   "metadata": {},
   "outputs": [
    {
     "name": "stdout",
     "output_type": "stream",
     "text": [
      " HELLO\n",
      " hello\n",
      "False\n",
      "isaplha False\n",
      "True\n",
      "False\n",
      "True\n",
      "whitespace True\n",
      "isnumber False\n",
      "alphanumeric True\n"
     ]
    }
   ],
   "source": [
    "#string functions demo\n",
    "\n",
    "string=' hello'\n",
    "num='1234viv'\n",
    "new_str=string.upper()\n",
    "print(new_str)\n",
    "print(new_str.lower())\n",
    "print(string.isalnum())\n",
    "print('isaplha',string.isalpha())\n",
    "print(string.islower())\n",
    "print(new_str.islower())\n",
    "print(new_str.isupper())\n",
    "test_str='     '\n",
    "print('whitespace',test_str.isspace())#evaluate to true only if string var test_str contains spaces only\n",
    "print('isnumber',num.isnumeric())#valid for string variables and not for number datatypes\n",
    "print('alphanumeric',num.isalnum())\n"
   ]
  },
  {
   "cell_type": "code",
   "execution_count": 55,
   "metadata": {},
   "outputs": [
    {
     "name": "stdout",
     "output_type": "stream",
     "text": [
      "14\n",
      "11\n",
      "splitted string ['hello', 'vivek', 'I', 'hope', 'you', 'enjoy', 'Machine', 'Learning']\n",
      "6\n",
      "hello\n",
      "5\n",
      "string after join: hello vivek I hope you enjoy Machine Learning\n",
      "hello,vivek,I,hope,you,enjoy,Machine,Learning\n",
      "new string: hello vivek I am sure you enjoy Machine Learning\n"
     ]
    }
   ],
   "source": [
    "string=' hello vivek  '\n",
    "print(len(string))\n",
    "print(len(string.strip())) # removes extra whitespaces from start and end\n",
    "\n",
    "#split func str.split() returns a list of string seperated by whitespace if no other delimiter is mentioned\n",
    "test_str='hello vivek I hope you enjoy Machine Learning'\n",
    "split_str=test_str.split()\n",
    "print('splitted string',split_str)\n",
    "\n",
    "#strip removes unwanted whitespaces on \\n or \\t\n",
    "s1='hello\\t'\n",
    "print(len(s1))\n",
    "print(s1.strip('\\t'))\n",
    "print(len(s1.strip('\\t')))\n",
    "\n",
    "#join is opposite of split, it joins list of strings to a new string\n",
    "print('string after join:',\" \".join(split_str))\n",
    "print(\",\".join(['hello', 'vivek', 'I', 'hope', 'you', 'enjoy', 'Machine', 'Learning']))\n",
    "#','.join will seperate new string elements by comma\n",
    "\n",
    "#replace function returns an updated string with new value\n",
    "print('new string:',test_str.replace('hope','am sure'))\n"
   ]
  },
  {
   "cell_type": "code",
   "execution_count": 69,
   "metadata": {},
   "outputs": [
    {
     "data": {
      "text/plain": [
       "6"
      ]
     },
     "execution_count": 69,
     "metadata": {},
     "output_type": "execute_result"
    }
   ],
   "source": [
    "#count function\n",
    "#syntax:count(“string”, beg, end) \n",
    "#print(test_str[0])\n",
    "test_str.count('e',0,len(test_str))"
   ]
  },
  {
   "cell_type": "code",
   "execution_count": 119,
   "metadata": {},
   "outputs": [
    {
     "name": "stdout",
     "output_type": "stream",
     "text": [
      "count of i 3\n"
     ]
    }
   ],
   "source": [
    "#iterate over string \n",
    "#count occuernece of i\n",
    "s='vivek loves machine learning'\n",
    "ct=0\n",
    "for i in s:\n",
    "    if i=='i':\n",
    "        ct=ct+1\n",
    "print('count of i',ct)\n",
    "\n"
   ]
  },
  {
   "cell_type": "code",
   "execution_count": null,
   "metadata": {},
   "outputs": [],
   "source": [
    "#string item assignment\n",
    "my_str='vivek'\n",
    "my_str[2]='a'\n",
    "print(my_str)\n",
    "#strings are immutable and value cant be changed"
   ]
  },
  {
   "cell_type": "code",
   "execution_count": null,
   "metadata": {},
   "outputs": [],
   "source": [
    "#string format function\n"
   ]
  },
  {
   "cell_type": "code",
   "execution_count": 108,
   "metadata": {},
   "outputs": [
    {
     "name": "stdout",
     "output_type": "stream",
     "text": [
      "3\n",
      "7\n",
      "8\n",
      "[2, 3, 4, 7, 8]\n",
      "[1, 2]\n",
      "[1, 2, 3, 4, 7, 8]\n",
      "[1, 2, 3]\n",
      "[1, 2, 3, 6, 7, 8]\n",
      "[1, 2, 3, 6, 7, 8, 12]\n",
      "[1, 2, 3, 6, 7, 8, 12, [12, 5, 8]]\n",
      "[1, 2, 3, 6, 7, 8, 12, [12, 5, 8], 8, 13, 18]\n",
      "concatenated list [1, 2, 3, [4, 7, 8], 1, 2, 3, 6, 7, 8, 12, [12, 5, 8], 8, 13, 18]\n",
      "[1, 2, 3, 12, [12, 5, 8], 8, 13, 18]\n",
      "remove [1, 2, 3, 6, 7, 8, 12, [12, 5, 8], 8, 13, 18]\n",
      "[1, 2, 3, 6, 8, 12, [12, 5, 8], 8, 13, 18]\n",
      "no index provided [1, 2, 3, 6, 8, 12, [12, 5, 8], 8, 13]\n",
      "[13, 8, [12, 5, 8], 12, 8, 6, 3, 2, 1]\n"
     ]
    }
   ],
   "source": [
    "#List functions\n",
    "l1=[1,2,3,[4,7,8]]\n",
    "#indexing positive\n",
    "print(l1[2])\n",
    "print(l1[3][1])\n",
    "\n",
    "#negative indexing\n",
    "print(l1[-1][-1])\n",
    "\n",
    "l2=[1,2,3,4,7,8]\n",
    "#list slicing\n",
    "print(l2[1:]) #from 1st till the end\n",
    "print(l2[:2])#upper limit index not included\n",
    "print(l2[:])#print all values of list\n",
    "print(l2[:-3])\n",
    "\n",
    "\n",
    "#values of a list index position can be changes as list are mutable \n",
    "l2[3]=6 #index pos 3 changes to 6\n",
    "print(l2) #any position value can be changes just by assigning a value\n",
    "\n",
    "#append functions adds new item at the end\n",
    "l2.append(12)\n",
    "print(l2)\n",
    "l3=[12,5,8] #append adds only one item to the list\n",
    "l2.append(l3) #appending a list to existing list\n",
    "print(l2)\n",
    "\n",
    "#extend method to add multiple values to existing list\n",
    "l2.extend([8,13,18])\n",
    "print(l2)\n",
    "\n",
    "# list concatenation =using +\n",
    "print('concatenated list',l1+l2)\n",
    "\n",
    "#delete elements from list\n",
    "l3=[1, 2, 3, [4, 7, 8], 1, 2, 3, 6, 7, 8, 12, [12, 5, 8], 8, 13, 18]\n",
    "del l3[3:10]\n",
    "print(l3) #index values 3 to 9 are deleted\n",
    "\n",
    "#remove and pop list items\n",
    "#l2.remove(19)  #will give error when list item not present in \n",
    "print('remove',l2)\n",
    "l2=[1, 2, 3, 6, 7, 8, 12, [12, 5, 8], 8, 13, 18]\n",
    "l2.pop(4)\n",
    "print(l2)\n",
    "\n",
    "l2.pop()\n",
    "print('no index provided',l2) #it removes last element\n",
    "\n",
    "#count an element in list\n",
    "l2.count(12)\n",
    "\n",
    "#sort list items\n",
    "#l2.sort()\n",
    "\n",
    "#reverse the lit items\n",
    "l2.reverse()\n",
    "print('reverse list',l2)\n",
    "\n",
    "\n"
   ]
  },
  {
   "cell_type": "code",
   "execution_count": 121,
   "metadata": {},
   "outputs": [
    {
     "name": "stdout",
     "output_type": "stream",
     "text": [
      "[0, 1, 4, 9, 16, 25, 36, 49, 64, 81]\n",
      "[0, 1, 4, 9, 16, 25, 36, 49, 64, 81]\n",
      "[0, 2, 4, 6, 8, 10, 12, 14, 16, 18]\n"
     ]
    }
   ],
   "source": [
    "#list comprehensions to create list on the fly\n",
    "l4=[x**2 for x in range(10)]\n",
    "print(l4)\n",
    "\n",
    "#above code is equivalent to loop as\n",
    "pow=[]\n",
    "for x in range(10):\n",
    "    pow.append(x**2)\n",
    "print(pow)\n",
    "\n",
    "#comprehension with conditionals\n",
    "num_list=[x for x in range(20) if x%2==0]\n",
    "print(num_list)"
   ]
  },
  {
   "cell_type": "code",
   "execution_count": 123,
   "metadata": {},
   "outputs": [
    {
     "name": "stdout",
     "output_type": "stream",
     "text": [
      "[40, 80, 120, 80, 160, 240, 120, 240, 360]\n",
      "[40, 80, 120, 80, 160, 240, 120, 240, 360]\n"
     ]
    }
   ],
   "source": [
    "#nested list comprehensions\n",
    "#for loop\n",
    "new_list=[]\n",
    "for x in (20,40,60):\n",
    "    for y in (2,4,6):\n",
    "        new_list.append(x*y)\n",
    "print(new_list)\n",
    "\n",
    "#using comprehensions\n",
    "new_list=[x*y for x in (20,40,60) for y in (2,4,6)]\n",
    "print(new_list)"
   ]
  },
  {
   "cell_type": "code",
   "execution_count": 114,
   "metadata": {},
   "outputs": [
    {
     "name": "stdout",
     "output_type": "stream",
     "text": [
      "apple\n",
      "banana\n",
      "mango\n",
      "jack fruit\n"
     ]
    }
   ],
   "source": [
    "#iterate over list items\n",
    "fruits=['apple','banana','mango','jack fruit']\n",
    "for i in fruits:\n",
    "    print(i)"
   ]
  },
  {
   "cell_type": "code",
   "execution_count": 128,
   "metadata": {},
   "outputs": [
    {
     "name": "stdout",
     "output_type": "stream",
     "text": [
      "<class 'tuple'>\n",
      "staghorn coral\n"
     ]
    },
    {
     "ename": "IndexError",
     "evalue": "tuple index out of range",
     "output_type": "error",
     "traceback": [
      "\u001b[1;31m---------------------------------------------------------------------------\u001b[0m",
      "\u001b[1;31mIndexError\u001b[0m                                Traceback (most recent call last)",
      "\u001b[1;32m<ipython-input-128-2c7175754db5>\u001b[0m in \u001b[0;36m<module>\u001b[1;34m\u001b[0m\n\u001b[0;32m      7\u001b[0m \u001b[1;31m#tuple indexing\u001b[0m\u001b[1;33m\u001b[0m\u001b[1;33m\u001b[0m\u001b[1;33m\u001b[0m\u001b[0m\n\u001b[0;32m      8\u001b[0m \u001b[0mprint\u001b[0m\u001b[1;33m(\u001b[0m\u001b[0mcoral\u001b[0m\u001b[1;33m[\u001b[0m\u001b[1;36m1\u001b[0m\u001b[1;33m]\u001b[0m\u001b[1;33m)\u001b[0m\u001b[1;33m\u001b[0m\u001b[1;33m\u001b[0m\u001b[0m\n\u001b[1;32m----> 9\u001b[1;33m \u001b[0mprint\u001b[0m\u001b[1;33m(\u001b[0m\u001b[0mcoral\u001b[0m\u001b[1;33m[\u001b[0m\u001b[1;36m4\u001b[0m\u001b[1;33m]\u001b[0m\u001b[1;33m)\u001b[0m\u001b[1;33m\u001b[0m\u001b[1;33m\u001b[0m\u001b[0m\n\u001b[0m",
      "\u001b[1;31mIndexError\u001b[0m: tuple index out of range"
     ]
    }
   ],
   "source": [
    "#python tuples\n",
    "#A tuple is a data structure that is an immutable, or unchangeable, ordered sequence of elements. \n",
    "#Because tuples are immutable, their values cannot be modified. \n",
    "coral=('blue coral', 'staghorn coral', 'pillar coral', 'elkhorn coral')\n",
    "print(type(coral))\n",
    "\n",
    "#tuple indexing\n",
    "print(coral[1])\n",
    "print(coral[4]) #index out of range\n"
   ]
  },
  {
   "cell_type": "code",
   "execution_count": 135,
   "metadata": {},
   "outputs": [
    {
     "name": "stdout",
     "output_type": "stream",
     "text": [
      "('staghorn coral', 'pillar coral')\n",
      "('blue coral', 'staghorn coral', 'pillar coral')\n",
      "('staghorn coral', 'pillar coral')\n",
      "('staghorn coral', 'pillar coral')\n"
     ]
    }
   ],
   "source": [
    "#tuple slicing\n",
    "print(coral[1:3])\n",
    "print(coral[:3])\n",
    "\n",
    "#negative indexing\n",
    "print(coral[-3:-1])\n",
    "print(coral[1:3])"
   ]
  },
  {
   "cell_type": "code",
   "execution_count": 140,
   "metadata": {},
   "outputs": [
    {
     "name": "stdout",
     "output_type": "stream",
     "text": [
      "('blue coral', 'staghorn coral', 'pillar coral', 'elkhorn coral', 'wakame', 'alaria', 'deep-sea tangle', 'macrocystis')\n",
      "(4, 5, 9, 2, 'wakame', 'alaria', 'deep-sea tangle', 'macrocystis')\n",
      "('blue coral', 'staghorn coral', 'pillar coral', 'elkhorn coral', 'blue coral', 'staghorn coral', 'pillar coral', 'elkhorn coral')\n"
     ]
    }
   ],
   "source": [
    "#concatenating tuples\n",
    "coral = ('blue coral', 'staghorn coral', 'pillar coral', 'elkhorn coral')\n",
    "kelp = ('wakame', 'alaria', 'deep-sea tangle', 'macrocystis')\n",
    "num=(4,5,9,2)\n",
    "print(coral+kelp)\n",
    "print(num+kelp)\n",
    "\n",
    "\n",
    "#tuple multiply\n",
    "mul_coral=coral*2\n",
    "print(mul_coral) #tuple items are replicated twicce and assigned to new tuple\n"
   ]
  },
  {
   "cell_type": "code",
   "execution_count": 149,
   "metadata": {},
   "outputs": [
    {
     "name": "stdout",
     "output_type": "stream",
     "text": [
      "8\n",
      "staghorn coral\n",
      "max number 95.59\n",
      "min number 11.12\n"
     ]
    },
    {
     "data": {
      "text/plain": [
       "['blue coral', 'staghorn coral', 'pillar coral', 'elkhorn coral']"
      ]
     },
     "execution_count": 149,
     "metadata": {},
     "output_type": "execute_result"
    }
   ],
   "source": [
    "#tuple functions\n",
    "print(len(mul_coral))\n",
    "\n",
    "#max and min\n",
    "print(max(mul_coral))\n",
    "\n",
    "numbers = (11.13, 34.87, 95.59, 82.49, 42.73, 11.12, 95.57)\n",
    "print('max number',max(numbers))\n",
    "print('min number',min(numbers))\n",
    "\n",
    "\n",
    "#The primary way in which tuples are different from lists is that they cannot be modified. \n",
    "#This means that items cannot be added to or removed from tuples, and items cannot be replaced within tuples. \n",
    "#trying to change value of a tuple index\n",
    "#coral[0]='black coral' \n",
    "#throws error\n",
    "\n",
    "#convert tuple to list to change value\n",
    "list(coral)\n",
    "\n",
    "'''\n",
    "The tuple data type is a sequenced data type that cannot be modified, \n",
    "offering optimization to your programs by being a somewhat faster type than lists for Python to process.\n",
    "When others collaborate with you on your code, your use of tuples will convey to \n",
    "them that you don’t intend for those sequences of values to be modified.\n",
    "'''"
   ]
  },
  {
   "cell_type": "code",
   "execution_count": 2,
   "metadata": {},
   "outputs": [
    {
     "name": "stdout",
     "output_type": "stream",
     "text": [
      "{'username': 'vc@90', 'online': True, 'followers': 987}\n"
     ]
    }
   ],
   "source": [
    "#python dictionaries\n",
    "#The dictionary is Python’s built-in mapping type. \n",
    "#Dictionaries map keys to values and these key-value pairs provide a useful way to store data in Python. \n",
    "#eg sammy = {'username': 'sammy-shark', 'online': True, 'followers': 987}\n",
    "#The words to the left of the colons are the keys. Keys can be made up of any immutable data type. \n",
    "viv={'username': 'vc@90', 'online': True, 'followers': 987}\n",
    "print(viv)"
   ]
  },
  {
   "cell_type": "code",
   "execution_count": 9,
   "metadata": {},
   "outputs": [
    {
     "name": "stdout",
     "output_type": "stream",
     "text": [
      "vc@90\n",
      "dict_keys(['username', 'online', 'followers'])\n",
      "dict_values(['vc@90', True, 987])\n",
      "dict_items([('username', 'vc@90'), ('online', True), ('followers', 987)])\n",
      "<class 'dict_items'>\n",
      "username  is the value of item  vc@90\n",
      "online  is the value of item  True\n",
      "followers  is the value of item  987\n"
     ]
    }
   ],
   "source": [
    "#accessing data items of dictionary\n",
    "#using keys to access elements\n",
    "print(viv['username'])\n",
    "\n",
    "#using methods to access elements\n",
    "#dict.keys() isolates keys\n",
    "#dict.values() isolates values\n",
    "#dict.items() it retruns items in format of list (keys,values)\n",
    "\n",
    "print(viv.keys()) #print keys\n",
    "print(viv.values())  #access values\n",
    "print(viv.items()) \n",
    "l1=viv.items()\n",
    "print(type(l1))\n",
    "\n",
    "#items returned by dict.items() can be iterable\n",
    "for key,value in viv.items():\n",
    "    print(key,' is the value of item ',value)\n"
   ]
  },
  {
   "cell_type": "code",
   "execution_count": 17,
   "metadata": {},
   "outputs": [
    {
     "name": "stdout",
     "output_type": "stream",
     "text": [
      "{'Sammy': 'sammy-shark', 'Jamie': 'mantisshrimp54', 'Drew': 'squidly', 'Vivek': 'vc@90'}\n",
      "{'username': 'JOctopus', 'online': False, 'points': 723, 'followers': 974}\n",
      "{'username': 'JOctopus', 'online': False, 'points': 723, 'followers': 497}\n"
     ]
    }
   ],
   "source": [
    "#modifying dictionaries\n",
    "#adding and changing dictionary items\n",
    "usernames = {'Sammy': 'sammy-shark', 'Jamie': 'mantisshrimp54'}\n",
    "usernames['Drew']='squidly'  #adding items to dictionary\n",
    "usernames['Vivek']='vc@90'   #adding items to dictionary\n",
    "print(usernames)\n",
    "\n",
    "#dictionaries can be updated using dict.update() method as well\n",
    "#it adds new key to the dict\n",
    "jesse = {'username': 'JOctopus', 'online': False, 'points': 723}\n",
    "jesse.update({'followers':974})\n",
    "print(jesse)\n",
    "\n",
    "#dict.update can be use to modify an existing value as well\n",
    "jesse.update({'followers':497})\n",
    "print(jesse)"
   ]
  },
  {
   "cell_type": "code",
   "execution_count": 22,
   "metadata": {},
   "outputs": [
    {
     "name": "stdout",
     "output_type": "stream",
     "text": [
      "{'username': 'JOctopus', 'online': False, 'followers': 497}\n",
      "{}\n"
     ]
    }
   ],
   "source": [
    "#deleting items from a dictionary\n",
    "#del jesse['points'] #key points have been deleted from dict\n",
    "print(jesse) \n",
    "\n",
    "#to delete all the items of dict\n",
    "jesse.clear()\n",
    "print(jesse)  #dict items are cleared\n",
    "\n",
    "#Because dictionaries are mutable data types, they can be added to, modified, and have items removed and cleared"
   ]
  },
  {
   "cell_type": "code",
   "execution_count": null,
   "metadata": {},
   "outputs": [],
   "source": []
  }
 ],
 "metadata": {
  "kernelspec": {
   "display_name": "Python 3",
   "language": "python",
   "name": "python3"
  },
  "language_info": {
   "codemirror_mode": {
    "name": "ipython",
    "version": 3
   },
   "file_extension": ".py",
   "mimetype": "text/x-python",
   "name": "python",
   "nbconvert_exporter": "python",
   "pygments_lexer": "ipython3",
   "version": "3.7.3"
  }
 },
 "nbformat": 4,
 "nbformat_minor": 2
}
