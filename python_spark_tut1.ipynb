{
 "cells": [
  {
   "cell_type": "code",
   "execution_count": 19,
   "metadata": {},
   "outputs": [
    {
     "name": "stdout",
     "output_type": "stream",
     "text": [
      "modules imported\n"
     ]
    }
   ],
   "source": [
    "import findspark\n",
    "findspark.init('D:\\spark-2.3.3-bin-hadoop2.7')\n",
    "import pyspark\n",
    "from pyspark.sql import SparkSession\n",
    "print('modules imported')"
   ]
  },
  {
   "cell_type": "code",
   "execution_count": 20,
   "metadata": {},
   "outputs": [
    {
     "name": "stdout",
     "output_type": "stream",
     "text": [
      "app name build\n"
     ]
    }
   ],
   "source": [
    "spark= SparkSession.builder.appName('spark_study').getOrCreate()\n",
    "print('app name build')"
   ]
  },
  {
   "cell_type": "code",
   "execution_count": 42,
   "metadata": {},
   "outputs": [
    {
     "name": "stdout",
     "output_type": "stream",
     "text": [
      "+-------+-------+---------+----------+--------+-------------+-----------+\n",
      "|PROD_ID|CUST_ID|  TIME_ID|CHANNEL_ID|PROMO_ID|QUANTITY_SOLD|AMOUNT_SOLD|\n",
      "+-------+-------+---------+----------+--------+-------------+-----------+\n",
      "|    128|  17942|01-JAN-98|         2|     999|            1|       29.8|\n",
      "|    128|    254|01-JAN-98|         3|     999|            1|      39.19|\n",
      "|    128|   1786|01-JAN-98|         3|     999|            1|      39.19|\n",
      "|    128|   1949|01-JAN-98|         3|     999|            1|      39.19|\n",
      "|    128|   1971|01-JAN-98|         3|     999|            1|      39.19|\n",
      "|    128|   2079|01-JAN-98|         3|     999|            1|      39.19|\n",
      "|    128|   2383|01-JAN-98|         3|     999|            1|      39.19|\n",
      "|    128|   2748|01-JAN-98|         3|     999|            1|      39.19|\n",
      "|    128|   3685|01-JAN-98|         3|     999|            1|      39.19|\n",
      "|    128|   3960|01-JAN-98|         3|     999|            1|      39.19|\n",
      "+-------+-------+---------+----------+--------+-------------+-----------+\n",
      "only showing top 10 rows\n",
      "\n"
     ]
    },
    {
     "ename": "AttributeError",
     "evalue": "'RDD' object has no attribute 'show'",
     "output_type": "error",
     "traceback": [
      "\u001b[1;31m---------------------------------------------------------------------------\u001b[0m",
      "\u001b[1;31mAttributeError\u001b[0m                            Traceback (most recent call last)",
      "\u001b[1;32m<ipython-input-42-14acb387d804>\u001b[0m in \u001b[0;36m<module>\u001b[1;34m\u001b[0m\n\u001b[0;32m     10\u001b[0m \u001b[0msales_rdd\u001b[0m\u001b[1;33m=\u001b[0m\u001b[0msales_df\u001b[0m\u001b[1;33m.\u001b[0m\u001b[0mrdd\u001b[0m\u001b[1;33m\u001b[0m\u001b[1;33m\u001b[0m\u001b[0m\n\u001b[0;32m     11\u001b[0m \u001b[1;31m#type(sales_rdd)\u001b[0m\u001b[1;33m\u001b[0m\u001b[1;33m\u001b[0m\u001b[1;33m\u001b[0m\u001b[0m\n\u001b[1;32m---> 12\u001b[1;33m \u001b[0msales_rdd\u001b[0m\u001b[1;33m.\u001b[0m\u001b[0mshow\u001b[0m\u001b[1;33m(\u001b[0m\u001b[1;36m10\u001b[0m\u001b[1;33m)\u001b[0m\u001b[1;33m\u001b[0m\u001b[1;33m\u001b[0m\u001b[0m\n\u001b[0m\u001b[0;32m     13\u001b[0m \u001b[1;31m#sales_rdd.filter(sales_rdd.PROD_ID==128).show(10)\u001b[0m\u001b[1;33m\u001b[0m\u001b[1;33m\u001b[0m\u001b[1;33m\u001b[0m\u001b[0m\n\u001b[0;32m     14\u001b[0m \u001b[1;31m#so the transformation and action comes under the concept of lazy evaluation of spark\u001b[0m\u001b[1;33m\u001b[0m\u001b[1;33m\u001b[0m\u001b[1;33m\u001b[0m\u001b[0m\n",
      "\u001b[1;31mAttributeError\u001b[0m: 'RDD' object has no attribute 'show'"
     ]
    }
   ],
   "source": [
    "#both of the below operations such as read.csv and rdd.filter are transformations\n",
    "#spark will not show any results until an action is performed\n",
    "sales_df=spark.read.csv(\"D:\\python coding\\pyspark_tutorial\\sales.csv\",inferSchema=True,header=True)\n",
    "sales_df=sales_df.filter(sales_df.PROD_ID==128)\n",
    "sales_df.show(10) #show() is performing an acton\n",
    "sales_df.count()\n",
    "type(sales_df) \n",
    "\n",
    "#.rdd will convert dataframe to rdd\n",
    "sales_rdd=sales_df.rdd\n",
    "#type(sales_rdd)\n",
    "\n",
    "#sales_rdd.filter(sales_rdd.PROD_ID==128).show(10)\n",
    "#so the transformation and action comes under the concept of lazy evaluation of spark\n",
    "#which is a spark will not perform any operation until an action is performed"
   ]
  },
  {
   "cell_type": "code",
   "execution_count": 7,
   "metadata": {},
   "outputs": [
    {
     "name": "stdout",
     "output_type": "stream",
     "text": [
      "+-------+-------+---------+----------+--------+-------------+-----------+\n",
      "|PROD_ID|CUST_ID|  TIME_ID|CHANNEL_ID|PROMO_ID|QUANTITY_SOLD|AMOUNT_SOLD|\n",
      "+-------+-------+---------+----------+--------+-------------+-----------+\n",
      "|     13|    987|10-JAN-98|         3|     999|            1|    1232.16|\n",
      "|     13|   1660|10-JAN-98|         3|     999|            1|    1232.16|\n",
      "|     13|   1762|10-JAN-98|         3|     999|            1|    1232.16|\n",
      "|     13|   1843|10-JAN-98|         3|     999|            1|    1232.16|\n",
      "|     13|   1948|10-JAN-98|         3|     999|            1|    1232.16|\n",
      "+-------+-------+---------+----------+--------+-------------+-----------+\n",
      "only showing top 5 rows\n",
      "\n",
      "+-------+---------------+--------------+-----------+------------------+-------------------+--------------------+----------------+------------+------------+-------------------+----------------------+----------+----------------------+--------------------+-----------------+-----------------+--------------+-------------+-----------+-------------+-----------+----------+\n",
      "|CUST_ID|CUST_FIRST_NAME|CUST_LAST_NAME|CUST_GENDER|CUST_YEAR_OF_BIRTH|CUST_MARITAL_STATUS| CUST_STREET_ADDRESS|CUST_POSTAL_CODE|   CUST_CITY|CUST_CITY_ID|CUST_STATE_PROVINCE|CUST_STATE_PROVINCE_ID|COUNTRY_ID|CUST_MAIN_PHONE_NUMBER|   CUST_INCOME_LEVEL|CUST_CREDIT_LIMIT|       CUST_EMAIL|    CUST_TOTAL|CUST_TOTAL_ID|CUST_SRC_ID|CUST_EFF_FROM|CUST_EFF_TO|CUST_VALID|\n",
      "+-------+---------------+--------------+-----------+------------------+-------------------+--------------------+----------------+------------+------------+-------------------+----------------------+----------+----------------------+--------------------+-----------------+-----------------+--------------+-------------+-----------+-------------+-----------+----------+\n",
      "|  49671|        Abigail|         Ruddy|          M|              1976|            married|27 North Sagadaho...|           60332|         Ede|       51442|         Gelderland|                 52610|     52770|          519-236-6123|G: 130,000 - 149,999|             1500|Ruddy@company.com|Customer total|        52772|       null|    01-JAN-98|       null|         I|\n",
      "|   3228|        Abigail|         Ruddy|          M|              1964|               null|37 West Geneva St...|           55406|   Hoofddorp|       51669|      Noord-Holland|                 52683|     52770|          327-194-5008|G: 130,000 - 149,999|             7000|Ruddy@company.com|Customer total|        52772|       null|    01-JAN-98|       null|         A|\n",
      "|   6783|        Abigail|         Ruddy|          M|              1942|             single|    47 Toa Alta Road|           34077|   Schimmert|       52297|            Limburg|                 52646|     52770|          288-613-9676|G: 130,000 - 149,999|            11000|Ruddy@company.com|Customer total|        52772|       null|    01-JAN-98|       null|         I|\n",
      "|  10338|        Abigail|         Ruddy|          M|              1977|            married|47 South Kanabec ...|           72996|Scheveningen|       52296|       Zuid-Holland|                 52771|     52770|          222-269-1259|G: 130,000 - 149,999|             1500|Ruddy@company.com|Customer total|        52772|       null|    01-JAN-98|       null|         I|\n",
      "|  13894|        Abigail|         Ruddy|          M|              1949|               null|  57 North 3rd Drive|           67644|   Joinville|       51698|     Santa Catarina|                 52734|     52775|          675-133-2226|G: 130,000 - 149,999|             9000|Ruddy@company.com|Customer total|        52772|       null|    01-JAN-98|       null|         I|\n",
      "+-------+---------------+--------------+-----------+------------------+-------------------+--------------------+----------------+------------+------------+-------------------+----------------------+----------+----------------------+--------------------+-----------------+-----------------+--------------+-------------+-----------+-------------+-----------+----------+\n",
      "only showing top 5 rows\n",
      "\n",
      "+----------+------------+-------------+----------------+-------------+----------------+\n",
      "|CHANNEL_ID|CHANNEL_DESC|CHANNEL_CLASS|CHANNEL_CLASS_ID|CHANNEL_TOTAL|CHANNEL_TOTAL_ID|\n",
      "+----------+------------+-------------+----------------+-------------+----------------+\n",
      "|         3|Direct Sales|       Direct|              12|Channel total|               1|\n",
      "|         9|  Tele Sales|       Direct|              12|Channel total|               1|\n",
      "|         5|     Catalog|     Indirect|              13|Channel total|               1|\n",
      "|         4|    Internet|     Indirect|              13|Channel total|               1|\n",
      "|         2|    Partners|       Others|              14|Channel total|               1|\n",
      "+----------+------------+-------------+----------------+-------------+----------------+\n",
      "\n"
     ]
    }
   ],
   "source": [
    "sales_df=spark.read.csv(\"D:\\python coding\\pyspark_tutorial\\sales.csv\",inferSchema=True,header=True)\n",
    "sales_df.show(5) #print top 10 rows of file\n",
    "\n",
    "#printschema to see structure of a dataframe\n",
    "#sales_df.printSchema()\n",
    "\n",
    "cust_df=spark.read.csv(\"D:\\python coding\\pyspark_tutorial\\cust.csv\",inferSchema=True,header=True)\n",
    "cust_df.show(5)       \n",
    "\n",
    "chan_df=spark.read.csv(\"D:\\python coding\\pyspark_tutorial\\channels.csv\",inferSchema=True,header=True)\n",
    "chan_df.show()"
   ]
  },
  {
   "cell_type": "code",
   "execution_count": 8,
   "metadata": {},
   "outputs": [
    {
     "name": "stdout",
     "output_type": "stream",
     "text": [
      "+-------+-------+-----------+\n",
      "|PROD_ID|CUST_ID|AMOUNT_SOLD|\n",
      "+-------+-------+-----------+\n",
      "|     13|    987|    1232.16|\n",
      "|     13|   1660|    1232.16|\n",
      "|     13|   1762|    1232.16|\n",
      "|     13|   1843|    1232.16|\n",
      "|     13|   1948|    1232.16|\n",
      "|     13|   2273|    1232.16|\n",
      "|     13|   2380|    1232.16|\n",
      "|     13|   2683|    1232.16|\n",
      "|     13|   2865|    1232.16|\n",
      "|     13|   4663|    1232.16|\n",
      "|     13|   5203|    1232.16|\n",
      "|     13|   5321|    1232.16|\n",
      "|     13|   5590|    1232.16|\n",
      "|     13|   6277|    1232.16|\n",
      "|     13|   6859|    1232.16|\n",
      "|     13|   8540|    1232.16|\n",
      "|     13|   9076|    1232.16|\n",
      "|     13|  12099|    1232.16|\n",
      "|     13|  35834|    1232.16|\n",
      "|     13|    524|    1205.99|\n",
      "+-------+-------+-----------+\n",
      "only showing top 20 rows\n",
      "\n",
      "+-------+---------------+--------------+\n",
      "|CUST_ID|CUST_FIRST_NAME|CUST_LAST_NAME|\n",
      "+-------+---------------+--------------+\n",
      "|  49671|        Abigail|         Ruddy|\n",
      "|   3228|        Abigail|         Ruddy|\n",
      "|   6783|        Abigail|         Ruddy|\n",
      "|  10338|        Abigail|         Ruddy|\n",
      "|  13894|        Abigail|         Ruddy|\n",
      "|  17449|        Abigail|         Ruddy|\n",
      "|  21005|        Abigail|         Ruddy|\n",
      "|  24561|        Abigail|         Ruddy|\n",
      "|  28116|        Abigail|         Ruddy|\n",
      "|  31671|        Abigail|         Ruddy|\n",
      "|  35227|        Abigail|         Ruddy|\n",
      "|  36117|          Abner|       Everett|\n",
      "|  39672|          Abner|       Everett|\n",
      "|  43228|          Abner|       Everett|\n",
      "|  25470|          Abner|       Everett|\n",
      "|  47006|          Abner|       Everett|\n",
      "|  50561|          Abner|       Everett|\n",
      "|   4117|          Abner|       Everett|\n",
      "|   7673|          Abner|       Everett|\n",
      "|  11228|          Abner|       Everett|\n",
      "+-------+---------------+--------------+\n",
      "only showing top 20 rows\n",
      "\n"
     ]
    }
   ],
   "source": [
    "#to select particular columns\n",
    "sales_df.select('PROD_ID','CUST_ID','AMOUNT_SOLD').show()\n",
    "cust_df.select('CUST_ID','CUST_FIRST_NAME','CUST_LAST_NAME').show()"
   ]
  },
  {
   "cell_type": "code",
   "execution_count": 9,
   "metadata": {},
   "outputs": [
    {
     "name": "stdout",
     "output_type": "stream",
     "text": [
      "+-------+-----------+\n",
      "|PROD_ID|AMOUNT_SOLD|\n",
      "+-------+-----------+\n",
      "|     36|      50.54|\n",
      "|    131|      26.59|\n",
      "|     18|    1378.25|\n",
      "|     24|      46.73|\n",
      "|     25|     133.92|\n",
      "|     48|      12.75|\n",
      "|    113|      24.71|\n",
      "|    114|      18.05|\n",
      "|    123|      51.44|\n",
      "|    134|      26.67|\n",
      "|     21|    1148.39|\n",
      "|     29|     550.37|\n",
      "|     41|      48.29|\n",
      "|    134|      23.36|\n",
      "|     23|      23.17|\n",
      "|    117|       9.61|\n",
      "|    135|      52.96|\n",
      "|    145|      13.95|\n",
      "|    127|      36.98|\n",
      "|    128|      27.98|\n",
      "+-------+-----------+\n",
      "only showing top 20 rows\n",
      "\n"
     ]
    }
   ],
   "source": [
    "#Selecting Distinct Multiple Columns\n",
    "sales_df.select('PROD_ID','AMOUNT_SOLD').distinct().show()"
   ]
  },
  {
   "cell_type": "code",
   "execution_count": 10,
   "metadata": {},
   "outputs": [
    {
     "data": {
      "text/plain": [
       "72"
      ]
     },
     "execution_count": 10,
     "metadata": {},
     "output_type": "execute_result"
    }
   ],
   "source": [
    "#count distinct prodids in dataframe\n",
    "sales_df.select('PROD_ID').distinct().count() "
   ]
  },
  {
   "cell_type": "code",
   "execution_count": 11,
   "metadata": {},
   "outputs": [
    {
     "name": "stdout",
     "output_type": "stream",
     "text": [
      "+-------+-------+---------+----------+--------+-------------+-----------+\n",
      "|PROD_ID|CUST_ID|  TIME_ID|CHANNEL_ID|PROMO_ID|QUANTITY_SOLD|AMOUNT_SOLD|\n",
      "+-------+-------+---------+----------+--------+-------------+-----------+\n",
      "|    128|  17942|01-JAN-98|         2|     999|            1|       29.8|\n",
      "|    128|    254|01-JAN-98|         3|     999|            1|      39.19|\n",
      "|    128|   1786|01-JAN-98|         3|     999|            1|      39.19|\n",
      "|    128|   1949|01-JAN-98|         3|     999|            1|      39.19|\n",
      "|    128|   1971|01-JAN-98|         3|     999|            1|      39.19|\n",
      "|    128|   2079|01-JAN-98|         3|     999|            1|      39.19|\n",
      "|    128|   2383|01-JAN-98|         3|     999|            1|      39.19|\n",
      "|    128|   2748|01-JAN-98|         3|     999|            1|      39.19|\n",
      "|    128|   3685|01-JAN-98|         3|     999|            1|      39.19|\n",
      "|    128|   3960|01-JAN-98|         3|     999|            1|      39.19|\n",
      "|    128|   4942|01-JAN-98|         3|     999|            1|      39.19|\n",
      "|    128|   5085|01-JAN-98|         3|     999|            1|      39.19|\n",
      "|    128|   5427|01-JAN-98|         3|     999|            1|      39.19|\n",
      "|    128|   6913|01-JAN-98|         3|     999|            1|      39.19|\n",
      "|    128|   7086|01-JAN-98|         3|     999|            1|      39.19|\n",
      "|    128|   7873|01-JAN-98|         3|     999|            1|      39.19|\n",
      "|    128|   8027|01-JAN-98|         3|     999|            1|      39.19|\n",
      "|    128|   8236|01-JAN-98|         3|     999|            1|      39.19|\n",
      "|    128|   8268|01-JAN-98|         3|     999|            1|      39.19|\n",
      "|    128|   8686|01-JAN-98|         3|     999|            1|      39.19|\n",
      "+-------+-------+---------+----------+--------+-------------+-----------+\n",
      "only showing top 20 rows\n",
      "\n"
     ]
    },
    {
     "data": {
      "text/plain": [
       "0"
      ]
     },
     "execution_count": 11,
     "metadata": {},
     "output_type": "execute_result"
    }
   ],
   "source": [
    "#filter data \n",
    "sales_df.filter(sales_df.PROD_ID==128).show()\n",
    "sales_df.filter(sales_df.PROD_ID==999).count() #print count of occurences"
   ]
  },
  {
   "cell_type": "code",
   "execution_count": 12,
   "metadata": {},
   "outputs": [
    {
     "name": "stdout",
     "output_type": "stream",
     "text": [
      "+-------+-------+---------+----------+--------+-------------+-----------+\n",
      "|PROD_ID|CUST_ID|  TIME_ID|CHANNEL_ID|PROMO_ID|QUANTITY_SOLD|AMOUNT_SOLD|\n",
      "+-------+-------+---------+----------+--------+-------------+-----------+\n",
      "|    128|  17942|01-JAN-98|         2|     999|            1|       29.8|\n",
      "|    128|    254|01-JAN-98|         3|     999|            1|      39.19|\n",
      "|    128|   1786|01-JAN-98|         3|     999|            1|      39.19|\n",
      "|    128|   1949|01-JAN-98|         3|     999|            1|      39.19|\n",
      "|    128|   1971|01-JAN-98|         3|     999|            1|      39.19|\n",
      "|    128|   2079|01-JAN-98|         3|     999|            1|      39.19|\n",
      "|    128|   2383|01-JAN-98|         3|     999|            1|      39.19|\n",
      "|    128|   2748|01-JAN-98|         3|     999|            1|      39.19|\n",
      "|    128|   3685|01-JAN-98|         3|     999|            1|      39.19|\n",
      "|    128|   3960|01-JAN-98|         3|     999|            1|      39.19|\n",
      "|    128|   4942|01-JAN-98|         3|     999|            1|      39.19|\n",
      "|    128|   5085|01-JAN-98|         3|     999|            1|      39.19|\n",
      "|    128|   5427|01-JAN-98|         3|     999|            1|      39.19|\n",
      "|    128|   6913|01-JAN-98|         3|     999|            1|      39.19|\n",
      "|    128|   7086|01-JAN-98|         3|     999|            1|      39.19|\n",
      "|    128|   7873|01-JAN-98|         3|     999|            1|      39.19|\n",
      "|    128|   8027|01-JAN-98|         3|     999|            1|      39.19|\n",
      "|    128|   8236|01-JAN-98|         3|     999|            1|      39.19|\n",
      "|    128|   8268|01-JAN-98|         3|     999|            1|      39.19|\n",
      "|    128|   8686|01-JAN-98|         3|     999|            1|      39.19|\n",
      "+-------+-------+---------+----------+--------+-------------+-----------+\n",
      "only showing top 20 rows\n",
      "\n"
     ]
    },
    {
     "data": {
      "text/plain": [
       "18316"
      ]
     },
     "execution_count": 12,
     "metadata": {},
     "output_type": "execute_result"
    }
   ],
   "source": [
    "#filtering data based on multiple columns\n",
    "#and && not work , use &\n",
    "sales_df.filter((sales_df.PROD_ID==128) & (sales_df.PROMO_ID==999)).show()\n",
    "sales_df.filter((sales_df.PROD_ID==128) & (sales_df.PROMO_ID==999)).count() #doubt with output"
   ]
  },
  {
   "cell_type": "code",
   "execution_count": 13,
   "metadata": {},
   "outputs": [
    {
     "name": "stdout",
     "output_type": "stream",
     "text": [
      "+-------+-------+---------+----------+--------+-------------+-----------+\n",
      "|PROD_ID|CUST_ID|  TIME_ID|CHANNEL_ID|PROMO_ID|QUANTITY_SOLD|AMOUNT_SOLD|\n",
      "+-------+-------+---------+----------+--------+-------------+-----------+\n",
      "|    131|      2|01-NOV-98|         3|     999|            1|      26.02|\n",
      "|     31|      2|02-OCT-98|         2|     999|            1|       9.71|\n",
      "|    131|      2|04-OCT-98|         3|     999|            1|      26.02|\n",
      "|    126|      2|05-DEC-98|         3|     999|            1|      30.12|\n",
      "|    128|      2|05-OCT-98|         2|     999|            1|      38.35|\n",
      "|    128|      2|05-DEC-98|         3|     999|            1|      38.35|\n",
      "|    113|      2|04-OCT-98|         3|     999|            1|      27.13|\n",
      "|    125|      2|05-OCT-98|         3|     999|            1|      16.61|\n",
      "|     18|      2|05-NOV-98|         4|     999|            1|    1702.99|\n",
      "|    127|      2|05-OCT-98|         2|     999|            1|      50.68|\n",
      "|     30|      2|02-OCT-98|         2|     999|            1|      10.79|\n",
      "|    128|      2|05-OCT-98|         3|     999|            1|      38.35|\n",
      "|     40|      2|04-OCT-98|         3|     999|            1|      49.49|\n",
      "|     48|      2|04-OCT-98|         3|     999|            1|      12.95|\n",
      "|    130|      2|01-NOV-98|         3|     999|            1|     123.29|\n",
      "|    120|      2|01-NOV-98|         3|     999|            1|       8.88|\n",
      "|    127|      2|05-OCT-98|         3|     999|            1|      50.68|\n",
      "|     15|      2|05-NOV-98|         2|     999|            1|     999.99|\n",
      "|    125|      2|05-DEC-98|         3|     999|            1|      16.61|\n",
      "|     23|      2|02-NOV-98|         3|     999|            1|      23.75|\n",
      "+-------+-------+---------+----------+--------+-------------+-----------+\n",
      "only showing top 20 rows\n",
      "\n"
     ]
    }
   ],
   "source": [
    "#sorting data \n",
    "sales_df.orderBy(sales_df.CUST_ID).show()"
   ]
  },
  {
   "cell_type": "code",
   "execution_count": 45,
   "metadata": {},
   "outputs": [
    {
     "name": "stdout",
     "output_type": "stream",
     "text": [
      "+-------+-----+\n",
      "|PROD_ID|count|\n",
      "+-------+-----+\n",
      "|    148|15191|\n",
      "|     31|23108|\n",
      "|    137|10225|\n",
      "|    133|16732|\n",
      "|     34|13043|\n",
      "|    115|10823|\n",
      "|    126|12292|\n",
      "|     28|16796|\n",
      "|     26|15950|\n",
      "|     27|12163|\n",
      "|     44| 6113|\n",
      "|     22| 3441|\n",
      "|    128|19233|\n",
      "|    122| 4019|\n",
      "|     47|12837|\n",
      "|    140|14769|\n",
      "|    132|14183|\n",
      "|    146|12742|\n",
      "|     13| 6002|\n",
      "|     16| 6929|\n",
      "+-------+-----+\n",
      "only showing top 20 rows\n",
      "\n"
     ]
    }
   ],
   "source": [
    "#grouping the data\n",
    "group_df=sales_df.groupby('PROD_ID').count().show()"
   ]
  },
  {
   "cell_type": "code",
   "execution_count": 50,
   "metadata": {},
   "outputs": [
    {
     "name": "stdout",
     "output_type": "stream",
     "text": [
      "+-------+-------+---------+----------+--------+-------------+-----------+\n",
      "|PROD_ID|CUST_ID|  TIME_ID|CHANNEL_ID|PROMO_ID|QUANTITY_SOLD|AMOUNT_SOLD|\n",
      "+-------+-------+---------+----------+--------+-------------+-----------+\n",
      "|     13|    987|10-JAN-98|         3|     999|            1|    1232.16|\n",
      "|     13|   1660|10-JAN-98|         3|     999|            1|    1232.16|\n",
      "|     13|   1762|10-JAN-98|         3|     999|            1|    1232.16|\n",
      "|     13|   1843|10-JAN-98|         3|     999|            1|    1232.16|\n",
      "|     13|   1948|10-JAN-98|         3|     999|            1|    1232.16|\n",
      "|     13|   2273|10-JAN-98|         3|     999|            1|    1232.16|\n",
      "|     13|   2380|10-JAN-98|         3|     999|            1|    1232.16|\n",
      "|     13|   2683|10-JAN-98|         3|     999|            1|    1232.16|\n",
      "|     13|   2865|10-JAN-98|         3|     999|            1|    1232.16|\n",
      "|     13|   4663|10-JAN-98|         3|     999|            1|    1232.16|\n",
      "|     13|   5203|10-JAN-98|         3|     999|            1|    1232.16|\n",
      "|     13|   5321|10-JAN-98|         3|     999|            1|    1232.16|\n",
      "|     13|   5590|10-JAN-98|         3|     999|            1|    1232.16|\n",
      "|     13|   6277|10-JAN-98|         3|     999|            1|    1232.16|\n",
      "|     13|   6859|10-JAN-98|         3|     999|            1|    1232.16|\n",
      "|     13|   8540|10-JAN-98|         3|     999|            1|    1232.16|\n",
      "|     13|   9076|10-JAN-98|         3|     999|            1|    1232.16|\n",
      "|     13|  12099|10-JAN-98|         3|     999|            1|    1232.16|\n",
      "|     13|  35834|10-JAN-98|         3|     999|            1|    1232.16|\n",
      "|     13|    524|20-JAN-98|         2|     999|            1|    1205.99|\n",
      "+-------+-------+---------+----------+--------+-------------+-----------+\n",
      "only showing top 20 rows\n",
      "\n",
      "+-------+---------------+--------------+-----------+------------------+-------------------+--------------------+----------------+------------------+------------+--------------------+----------------------+----------+----------------------+--------------------+-----------------+-------------------+--------------+-------------+-----------+-------------+-----------+----------+\n",
      "|CUST_ID|CUST_FIRST_NAME|CUST_LAST_NAME|CUST_GENDER|CUST_YEAR_OF_BIRTH|CUST_MARITAL_STATUS| CUST_STREET_ADDRESS|CUST_POSTAL_CODE|         CUST_CITY|CUST_CITY_ID| CUST_STATE_PROVINCE|CUST_STATE_PROVINCE_ID|COUNTRY_ID|CUST_MAIN_PHONE_NUMBER|   CUST_INCOME_LEVEL|CUST_CREDIT_LIMIT|         CUST_EMAIL|    CUST_TOTAL|CUST_TOTAL_ID|CUST_SRC_ID|CUST_EFF_FROM|CUST_EFF_TO|CUST_VALID|\n",
      "+-------+---------------+--------------+-----------+------------------+-------------------+--------------------+----------------+------------------+------------+--------------------+----------------------+----------+----------------------+--------------------+-----------------+-------------------+--------------+-------------+-----------+-------------+-----------+----------+\n",
      "|  49671|        Abigail|         Ruddy|          M|              1976|            married|27 North Sagadaho...|           60332|               Ede|       51442|          Gelderland|                 52610|     52770|          519-236-6123|G: 130,000 - 149,999|             1500|  Ruddy@company.com|Customer total|        52772|       null|    01-JAN-98|       null|         I|\n",
      "|   3228|        Abigail|         Ruddy|          M|              1964|               null|37 West Geneva St...|           55406|         Hoofddorp|       51669|       Noord-Holland|                 52683|     52770|          327-194-5008|G: 130,000 - 149,999|             7000|  Ruddy@company.com|Customer total|        52772|       null|    01-JAN-98|       null|         A|\n",
      "|   6783|        Abigail|         Ruddy|          M|              1942|             single|    47 Toa Alta Road|           34077|         Schimmert|       52297|             Limburg|                 52646|     52770|          288-613-9676|G: 130,000 - 149,999|            11000|  Ruddy@company.com|Customer total|        52772|       null|    01-JAN-98|       null|         I|\n",
      "|  10338|        Abigail|         Ruddy|          M|              1977|            married|47 South Kanabec ...|           72996|      Scheveningen|       52296|        Zuid-Holland|                 52771|     52770|          222-269-1259|G: 130,000 - 149,999|             1500|  Ruddy@company.com|Customer total|        52772|       null|    01-JAN-98|       null|         I|\n",
      "|  13894|        Abigail|         Ruddy|          M|              1949|               null|  57 North 3rd Drive|           67644|         Joinville|       51698|      Santa Catarina|                 52734|     52775|          675-133-2226|G: 130,000 - 149,999|             9000|  Ruddy@company.com|Customer total|        52772|       null|    01-JAN-98|       null|         I|\n",
      "|  17449|        Abigail|         Ruddy|          M|              1950|             single|67 East Mcintosh ...|           83786|            Nagoya|       51971|               Aichi|                 52543|     52782|          183-207-2933|G: 130,000 - 149,999|             9000|  Ruddy@company.com|Customer total|        52772|       null|    01-JAN-98|       null|         A|\n",
      "|  21005|        Abigail|         Ruddy|          M|              1946|            married|  77 Bradford Avenue|           52773|            Santos|       52293|           Sao Paulo|                 52735|     52775|          129-379-7148|G: 130,000 - 149,999|             3000|  Ruddy@company.com|Customer total|        52772|       null|    01-JAN-98|       null|         I|\n",
      "|  24561|        Abigail|         Ruddy|          M|              1978|               null|77 North Packard ...|           37400|          Yokohama|       52526|            Kanagawa|                 52634|     52782|          689-236-7611|G: 130,000 - 149,999|             7000|  Ruddy@company.com|Customer total|        52772|       null|    01-JAN-98|       null|         A|\n",
      "|  28116|        Abigail|         Ruddy|          M|              1949|             single|87 West Coshocton...|           71349|           Haarlem|       51644|       Noord-Holland|                 52683|     52770|          208-194-6025|G: 130,000 - 149,999|            11000|  Ruddy@company.com|Customer total|        52772|       null|    01-JAN-98|       null|         I|\n",
      "|  31671|        Abigail|         Ruddy|          M|              1951|            married| 97 Sagadahoc Avenue|           55056|            Bolton|       51205|England - Greater...|                 52590|     52789|          391-613-8000|G: 130,000 - 149,999|             1500|  Ruddy@company.com|Customer total|        52772|       null|    01-JAN-98|       null|         I|\n",
      "|  35227|        Abigail|         Ruddy|          M|              1948|               null|97 South Geneva A...|           81402|          Lelystad|       51793|         Flevopolder|                 52599|     52770|          587-269-1680|G: 130,000 - 149,999|             9000|  Ruddy@company.com|Customer total|        52772|       null|    01-JAN-98|       null|         I|\n",
      "|  36117|          Abner|       Everett|          M|              1954|               null|107 Covington Avenue|           80841|     Wolverhampton|       52514|England - West Mi...|                 52593|     52789|          258-692-7934|K: 250,000 - 299,999|            15000|Everett@company.com|Customer total|        52772|       null|    01-JAN-98|       null|         I|\n",
      "|  39672|          Abner|       Everett|          M|              1975|            married|107 North Saguach...|           34216|            Murnau|       51934|              Bayern|                 52561|     52776|          167-248-1619|K: 250,000 - 299,999|            11000|Everett@company.com|Customer total|        52772|       null|    01-JAN-98|       null|         I|\n",
      "|  43228|          Abner|       Everett|          M|              1957|            married|117 West Gloucest...|           72059|       Los Angeles|       51806|                  CA|                 52567|     52790|          620-711-8237|K: 250,000 - 299,999|             7000|Everett@company.com|Customer total|        52772|       null|    01-JAN-98|       null|         I|\n",
      "|  25470|          Abner|       Everett|          M|              1966|             single|17 West Mckenzie ...|           84773|         Stuttgart|       52331|  Baden-Wuerttemberg|                 52559|     52776|          103-711-9009|K: 250,000 - 299,999|            15000|Everett@company.com|Customer total|        52772|       null|    01-JAN-98|       null|         I|\n",
      "|  47006|          Abner|       Everett|          M|              1985|               null|27 East Braxton B...|           55787|           Montara|       51919|                  CA|                 52567|     52790|          454-716-5260|K: 250,000 - 299,999|            11000|Everett@company.com|Customer total|        52772|       null|    01-JAN-98|       null|         I|\n",
      "|  50561|          Abner|       Everett|          M|              1960|            married|27 South Page Bou...|           55646|             Neuss|       51975| Nordrhein-Westfalen|                 52684|     52776|          526-349-7669|K: 250,000 - 299,999|             7000|Everett@company.com|Customer total|        52772|       null|    01-JAN-98|       null|         I|\n",
      "|   4117|          Abner|       Everett|          M|              1972|             single|37 North Covingto...|           91906|Clermont-l'Herault|       51329|Languedoc-Roussillon|                 52645|     52779|          155-204-1940|K: 250,000 - 299,999|            15000|Everett@company.com|Customer total|        52772|       null|    01-JAN-98|       null|         A|\n",
      "|   7673|          Abner|       Everett|          M|              1988|               null|47 East Saguache ...|           68644|Schwaebisch Gmuend|       52300|  Baden-Wuerttemberg|                 52559|     52776|          230-226-8711|K: 250,000 - 299,999|            11000|Everett@company.com|Customer total|        52772|       null|    01-JAN-98|       null|         I|\n",
      "|  11228|          Abner|       Everett|          M|              1956|            married| 57 Gloucester Drive|           51430|        Ingolstadt|       51680|              Bayern|                 52561|     52776|          630-692-5246|K: 250,000 - 299,999|             7000|Everett@company.com|Customer total|        52772|       null|    01-JAN-98|       null|         I|\n",
      "+-------+---------------+--------------+-----------+------------------+-------------------+--------------------+----------------+------------------+------------+--------------------+----------------------+----------+----------------------+--------------------+-----------------+-------------------+--------------+-------------+-----------+-------------+-----------+----------+\n",
      "only showing top 20 rows\n",
      "\n"
     ]
    }
   ],
   "source": [
    "#pyspark dataframe joins\n",
    "sales_df.show()\n",
    "cust_df.show()"
   ]
  },
  {
   "cell_type": "code",
   "execution_count": 59,
   "metadata": {},
   "outputs": [
    {
     "name": "stdout",
     "output_type": "stream",
     "text": [
      "+-------+---------------+--------------+-----------+------------------+-------------------+-------------------+----------------+---------+------------+-------------------+----------------------+----------+----------------------+--------------------+-----------------+--------------------+--------------+-------------+-----------+-------------+-----------+----------+-------+-------+---------+----------+--------+-------------+-----------+\n",
      "|CUST_ID|CUST_FIRST_NAME|CUST_LAST_NAME|CUST_GENDER|CUST_YEAR_OF_BIRTH|CUST_MARITAL_STATUS|CUST_STREET_ADDRESS|CUST_POSTAL_CODE|CUST_CITY|CUST_CITY_ID|CUST_STATE_PROVINCE|CUST_STATE_PROVINCE_ID|COUNTRY_ID|CUST_MAIN_PHONE_NUMBER|   CUST_INCOME_LEVEL|CUST_CREDIT_LIMIT|          CUST_EMAIL|    CUST_TOTAL|CUST_TOTAL_ID|CUST_SRC_ID|CUST_EFF_FROM|CUST_EFF_TO|CUST_VALID|PROD_ID|CUST_ID|  TIME_ID|CHANNEL_ID|PROMO_ID|QUANTITY_SOLD|AMOUNT_SOLD|\n",
      "+-------+---------------+--------------+-----------+------------------+-------------------+-------------------+----------------+---------+------------+-------------------+----------------------+----------+----------------------+--------------------+-----------------+--------------------+--------------+-------------+-----------+-------------+-----------+----------+-------+-------+---------+----------+--------+-------------+-----------+\n",
      "|    148|           Riva|        Austin|          F|              1971|            married|1847 Such Boulevard|           66437|    Asten|       51075|      Noord-Brabant|                 52682|     52770|        (546) 476-8524|F: 110,000 - 129,999|             7000|riva.austin@compa...|Customer total|        52772|       null|    01-JAN-98|       null|         A|     18|    148|10-JUN-98|         2|     999|            1|    1378.25|\n",
      "|    148|           Riva|        Austin|          F|              1971|            married|1847 Such Boulevard|           66437|    Asten|       51075|      Noord-Brabant|                 52682|     52770|        (546) 476-8524|F: 110,000 - 129,999|             7000|riva.austin@compa...|Customer total|        52772|       null|    01-JAN-98|       null|         A|     29|    148|10-JUN-98|         4|     999|            1|     553.99|\n",
      "|    148|           Riva|        Austin|          F|              1971|            married|1847 Such Boulevard|           66437|    Asten|       51075|      Noord-Brabant|                 52682|     52770|        (546) 476-8524|F: 110,000 - 129,999|             7000|riva.austin@compa...|Customer total|        52772|       null|    01-JAN-98|       null|         A|    125|    148|11-MAY-98|         2|     999|            1|      16.42|\n",
      "|    148|           Riva|        Austin|          F|              1971|            married|1847 Such Boulevard|           66437|    Asten|       51075|      Noord-Brabant|                 52682|     52770|        (546) 476-8524|F: 110,000 - 129,999|             7000|riva.austin@compa...|Customer total|        52772|       null|    01-JAN-98|       null|         A|    126|    148|11-MAY-98|         4|     999|            1|      29.77|\n",
      "|    148|           Riva|        Austin|          F|              1971|            married|1847 Such Boulevard|           66437|    Asten|       51075|      Noord-Brabant|                 52682|     52770|        (546) 476-8524|F: 110,000 - 129,999|             7000|riva.austin@compa...|Customer total|        52772|       null|    01-JAN-98|       null|         A|    127|    148|11-MAY-98|         2|     999|            1|      38.84|\n",
      "+-------+---------------+--------------+-----------+------------------+-------------------+-------------------+----------------+---------+------------+-------------------+----------------------+----------+----------------------+--------------------+-----------------+--------------------+--------------+-------------+-----------+-------------+-----------+----------+-------+-------+---------+----------+--------+-------------+-----------+\n",
      "only showing top 5 rows\n",
      "\n"
     ]
    }
   ],
   "source": [
    "#inner join or equi join\n",
    "#giving alias to dataframes\n",
    "sales=sales_df.alias('sales')\n",
    "cust=cust_df.alias('cust')\n",
    "\n",
    "inner_join=cust.join(sales, cust.CUST_ID==sales.CUST_ID)\n",
    "inner_join.show(5)"
   ]
  },
  {
   "cell_type": "code",
   "execution_count": 60,
   "metadata": {},
   "outputs": [
    {
     "name": "stdout",
     "output_type": "stream",
     "text": [
      "+-------+---------------+--------------+-----------+------------------+-------------------+-------------------+----------------+---------+------------+-------------------+----------------------+----------+----------------------+--------------------+-----------------+--------------------+--------------+-------------+-----------+-------------+-----------+----------+-------+-------+---------+----------+--------+-------------+-----------+\n",
      "|CUST_ID|CUST_FIRST_NAME|CUST_LAST_NAME|CUST_GENDER|CUST_YEAR_OF_BIRTH|CUST_MARITAL_STATUS|CUST_STREET_ADDRESS|CUST_POSTAL_CODE|CUST_CITY|CUST_CITY_ID|CUST_STATE_PROVINCE|CUST_STATE_PROVINCE_ID|COUNTRY_ID|CUST_MAIN_PHONE_NUMBER|   CUST_INCOME_LEVEL|CUST_CREDIT_LIMIT|          CUST_EMAIL|    CUST_TOTAL|CUST_TOTAL_ID|CUST_SRC_ID|CUST_EFF_FROM|CUST_EFF_TO|CUST_VALID|PROD_ID|CUST_ID|  TIME_ID|CHANNEL_ID|PROMO_ID|QUANTITY_SOLD|AMOUNT_SOLD|\n",
      "+-------+---------------+--------------+-----------+------------------+-------------------+-------------------+----------------+---------+------------+-------------------+----------------------+----------+----------------------+--------------------+-----------------+--------------------+--------------+-------------+-----------+-------------+-----------+----------+-------+-------+---------+----------+--------+-------------+-----------+\n",
      "|    148|           Riva|        Austin|          F|              1971|            married|1847 Such Boulevard|           66437|    Asten|       51075|      Noord-Brabant|                 52682|     52770|        (546) 476-8524|F: 110,000 - 129,999|             7000|riva.austin@compa...|Customer total|        52772|       null|    01-JAN-98|       null|         A|     18|    148|10-JUN-98|         2|     999|            1|    1378.25|\n",
      "|    148|           Riva|        Austin|          F|              1971|            married|1847 Such Boulevard|           66437|    Asten|       51075|      Noord-Brabant|                 52682|     52770|        (546) 476-8524|F: 110,000 - 129,999|             7000|riva.austin@compa...|Customer total|        52772|       null|    01-JAN-98|       null|         A|     29|    148|10-JUN-98|         4|     999|            1|     553.99|\n",
      "|    148|           Riva|        Austin|          F|              1971|            married|1847 Such Boulevard|           66437|    Asten|       51075|      Noord-Brabant|                 52682|     52770|        (546) 476-8524|F: 110,000 - 129,999|             7000|riva.austin@compa...|Customer total|        52772|       null|    01-JAN-98|       null|         A|    125|    148|11-MAY-98|         2|     999|            1|      16.42|\n",
      "|    148|           Riva|        Austin|          F|              1971|            married|1847 Such Boulevard|           66437|    Asten|       51075|      Noord-Brabant|                 52682|     52770|        (546) 476-8524|F: 110,000 - 129,999|             7000|riva.austin@compa...|Customer total|        52772|       null|    01-JAN-98|       null|         A|    126|    148|11-MAY-98|         4|     999|            1|      29.77|\n",
      "|    148|           Riva|        Austin|          F|              1971|            married|1847 Such Boulevard|           66437|    Asten|       51075|      Noord-Brabant|                 52682|     52770|        (546) 476-8524|F: 110,000 - 129,999|             7000|riva.austin@compa...|Customer total|        52772|       null|    01-JAN-98|       null|         A|    127|    148|11-MAY-98|         2|     999|            1|      38.84|\n",
      "+-------+---------------+--------------+-----------+------------------+-------------------+-------------------+----------------+---------+------------+-------------------+----------------------+----------+----------------------+--------------------+-----------------+--------------------+--------------+-------------+-----------+-------------+-----------+----------+-------+-------+---------+----------+--------+-------------+-----------+\n",
      "only showing top 5 rows\n",
      "\n"
     ]
    }
   ],
   "source": [
    "#left outer join\n",
    "left_join=cust.join(sales, cust.CUST_ID==sales.CUST_ID, how='left')\n",
    "left_join.show(5)"
   ]
  },
  {
   "cell_type": "code",
   "execution_count": 65,
   "metadata": {},
   "outputs": [
    {
     "name": "stdout",
     "output_type": "stream",
     "text": [
      "+-------+---------------+--------------+-----------+------------------+-------------------+--------------------+----------------+---------+------------+-------------------+----------------------+----------+----------------------+--------------------+-----------------+-----------------+--------------+-------------+-----------+-------------+-----------+----------+-------+-------+-------+----------+--------+-------------+-----------+\n",
      "|CUST_ID|CUST_FIRST_NAME|CUST_LAST_NAME|CUST_GENDER|CUST_YEAR_OF_BIRTH|CUST_MARITAL_STATUS| CUST_STREET_ADDRESS|CUST_POSTAL_CODE|CUST_CITY|CUST_CITY_ID|CUST_STATE_PROVINCE|CUST_STATE_PROVINCE_ID|COUNTRY_ID|CUST_MAIN_PHONE_NUMBER|   CUST_INCOME_LEVEL|CUST_CREDIT_LIMIT|       CUST_EMAIL|    CUST_TOTAL|CUST_TOTAL_ID|CUST_SRC_ID|CUST_EFF_FROM|CUST_EFF_TO|CUST_VALID|PROD_ID|CUST_ID|TIME_ID|CHANNEL_ID|PROMO_ID|QUANTITY_SOLD|AMOUNT_SOLD|\n",
      "+-------+---------------+--------------+-----------+------------------+-------------------+--------------------+----------------+---------+------------+-------------------+----------------------+----------+----------------------+--------------------+-----------------+-----------------+--------------+-------------+-----------+-------------+-----------+----------+-------+-------+-------+----------+--------+-------------+-----------+\n",
      "|  49671|        Abigail|         Ruddy|          M|              1976|            married|27 North Sagadaho...|           60332|      Ede|       51442|         Gelderland|                 52610|     52770|          519-236-6123|G: 130,000 - 149,999|             1500|Ruddy@company.com|Customer total|        52772|       null|    01-JAN-98|       null|         I|   null|   null|   null|      null|    null|         null|       null|\n",
      "+-------+---------------+--------------+-----------+------------------+-------------------+--------------------+----------------+---------+------------+-------------------+----------------------+----------+----------------------+--------------------+-----------------+-----------------+--------------+-------------+-----------+-------------+-----------+----------+-------+-------+-------+----------+--------+-------------+-----------+\n",
      "\n"
     ]
    }
   ],
   "source": [
    "#left outer join with filter condition\n",
    "left_join=cust.join(sales,cust.CUST_ID==sales.CUST_ID, how='left')\n",
    "left_join.filter(cust.CUST_ID==49671).show()"
   ]
  },
  {
   "cell_type": "code",
   "execution_count": 67,
   "metadata": {},
   "outputs": [
    {
     "name": "stdout",
     "output_type": "stream",
     "text": [
      "+-------+---------------+--------------+-----------+------------------+-------------------+-------------------+----------------+---------+------------+-------------------+----------------------+----------+----------------------+--------------------+-----------------+--------------------+--------------+-------------+-----------+-------------+-----------+----------+-------+-------+---------+----------+--------+-------------+-----------+\n",
      "|CUST_ID|CUST_FIRST_NAME|CUST_LAST_NAME|CUST_GENDER|CUST_YEAR_OF_BIRTH|CUST_MARITAL_STATUS|CUST_STREET_ADDRESS|CUST_POSTAL_CODE|CUST_CITY|CUST_CITY_ID|CUST_STATE_PROVINCE|CUST_STATE_PROVINCE_ID|COUNTRY_ID|CUST_MAIN_PHONE_NUMBER|   CUST_INCOME_LEVEL|CUST_CREDIT_LIMIT|          CUST_EMAIL|    CUST_TOTAL|CUST_TOTAL_ID|CUST_SRC_ID|CUST_EFF_FROM|CUST_EFF_TO|CUST_VALID|PROD_ID|CUST_ID|  TIME_ID|CHANNEL_ID|PROMO_ID|QUANTITY_SOLD|AMOUNT_SOLD|\n",
      "+-------+---------------+--------------+-----------+------------------+-------------------+-------------------+----------------+---------+------------+-------------------+----------------------+----------+----------------------+--------------------+-----------------+--------------------+--------------+-------------+-----------+-------------+-----------+----------+-------+-------+---------+----------+--------+-------------+-----------+\n",
      "|    148|           Riva|        Austin|          F|              1971|            married|1847 Such Boulevard|           66437|    Asten|       51075|      Noord-Brabant|                 52682|     52770|        (546) 476-8524|F: 110,000 - 129,999|             7000|riva.austin@compa...|Customer total|        52772|       null|    01-JAN-98|       null|         A|     18|    148|10-JUN-98|         2|     999|            1|    1378.25|\n",
      "|    148|           Riva|        Austin|          F|              1971|            married|1847 Such Boulevard|           66437|    Asten|       51075|      Noord-Brabant|                 52682|     52770|        (546) 476-8524|F: 110,000 - 129,999|             7000|riva.austin@compa...|Customer total|        52772|       null|    01-JAN-98|       null|         A|     29|    148|10-JUN-98|         4|     999|            1|     553.99|\n",
      "|    148|           Riva|        Austin|          F|              1971|            married|1847 Such Boulevard|           66437|    Asten|       51075|      Noord-Brabant|                 52682|     52770|        (546) 476-8524|F: 110,000 - 129,999|             7000|riva.austin@compa...|Customer total|        52772|       null|    01-JAN-98|       null|         A|    125|    148|11-MAY-98|         2|     999|            1|      16.42|\n",
      "|    148|           Riva|        Austin|          F|              1971|            married|1847 Such Boulevard|           66437|    Asten|       51075|      Noord-Brabant|                 52682|     52770|        (546) 476-8524|F: 110,000 - 129,999|             7000|riva.austin@compa...|Customer total|        52772|       null|    01-JAN-98|       null|         A|    126|    148|11-MAY-98|         4|     999|            1|      29.77|\n",
      "|    148|           Riva|        Austin|          F|              1971|            married|1847 Such Boulevard|           66437|    Asten|       51075|      Noord-Brabant|                 52682|     52770|        (546) 476-8524|F: 110,000 - 129,999|             7000|riva.austin@compa...|Customer total|        52772|       null|    01-JAN-98|       null|         A|    127|    148|11-MAY-98|         2|     999|            1|      38.84|\n",
      "+-------+---------------+--------------+-----------+------------------+-------------------+-------------------+----------------+---------+------------+-------------------+----------------------+----------+----------------------+--------------------+-----------------+--------------------+--------------+-------------+-----------+-------------+-----------+----------+-------+-------+---------+----------+--------+-------------+-----------+\n",
      "only showing top 5 rows\n",
      "\n"
     ]
    }
   ],
   "source": [
    "#right outer join\n",
    "right_join=cust.join(sales, cust.CUST_ID==sales.CUST_ID, how='right')\n",
    "right_join.show(5)"
   ]
  },
  {
   "cell_type": "code",
   "execution_count": 71,
   "metadata": {},
   "outputs": [
    {
     "name": "stdout",
     "output_type": "stream",
     "text": [
      "+-------+---------------+--------------+-----------+------------------+-------------------+-------------------+----------------+---------+------------+-------------------+----------------------+----------+----------------------+--------------------+-----------------+--------------------+--------------+-------------+-----------+-------------+-----------+----------+-------+-------+---------+----------+--------+-------------+-----------+\n",
      "|CUST_ID|CUST_FIRST_NAME|CUST_LAST_NAME|CUST_GENDER|CUST_YEAR_OF_BIRTH|CUST_MARITAL_STATUS|CUST_STREET_ADDRESS|CUST_POSTAL_CODE|CUST_CITY|CUST_CITY_ID|CUST_STATE_PROVINCE|CUST_STATE_PROVINCE_ID|COUNTRY_ID|CUST_MAIN_PHONE_NUMBER|   CUST_INCOME_LEVEL|CUST_CREDIT_LIMIT|          CUST_EMAIL|    CUST_TOTAL|CUST_TOTAL_ID|CUST_SRC_ID|CUST_EFF_FROM|CUST_EFF_TO|CUST_VALID|PROD_ID|CUST_ID|  TIME_ID|CHANNEL_ID|PROMO_ID|QUANTITY_SOLD|AMOUNT_SOLD|\n",
      "+-------+---------------+--------------+-----------+------------------+-------------------+-------------------+----------------+---------+------------+-------------------+----------------------+----------+----------------------+--------------------+-----------------+--------------------+--------------+-------------+-----------+-------------+-----------+----------+-------+-------+---------+----------+--------+-------------+-----------+\n",
      "|    148|           Riva|        Austin|          F|              1971|            married|1847 Such Boulevard|           66437|    Asten|       51075|      Noord-Brabant|                 52682|     52770|        (546) 476-8524|F: 110,000 - 129,999|             7000|riva.austin@compa...|Customer total|        52772|       null|    01-JAN-98|       null|         A|     18|    148|10-JUN-98|         2|     999|            1|    1378.25|\n",
      "|    148|           Riva|        Austin|          F|              1971|            married|1847 Such Boulevard|           66437|    Asten|       51075|      Noord-Brabant|                 52682|     52770|        (546) 476-8524|F: 110,000 - 129,999|             7000|riva.austin@compa...|Customer total|        52772|       null|    01-JAN-98|       null|         A|     29|    148|10-JUN-98|         4|     999|            1|     553.99|\n",
      "|    148|           Riva|        Austin|          F|              1971|            married|1847 Such Boulevard|           66437|    Asten|       51075|      Noord-Brabant|                 52682|     52770|        (546) 476-8524|F: 110,000 - 129,999|             7000|riva.austin@compa...|Customer total|        52772|       null|    01-JAN-98|       null|         A|    125|    148|11-MAY-98|         2|     999|            1|      16.42|\n",
      "|    148|           Riva|        Austin|          F|              1971|            married|1847 Such Boulevard|           66437|    Asten|       51075|      Noord-Brabant|                 52682|     52770|        (546) 476-8524|F: 110,000 - 129,999|             7000|riva.austin@compa...|Customer total|        52772|       null|    01-JAN-98|       null|         A|    126|    148|11-MAY-98|         4|     999|            1|      29.77|\n",
      "|    148|           Riva|        Austin|          F|              1971|            married|1847 Such Boulevard|           66437|    Asten|       51075|      Noord-Brabant|                 52682|     52770|        (546) 476-8524|F: 110,000 - 129,999|             7000|riva.austin@compa...|Customer total|        52772|       null|    01-JAN-98|       null|         A|    127|    148|11-MAY-98|         2|     999|            1|      38.84|\n",
      "+-------+---------------+--------------+-----------+------------------+-------------------+-------------------+----------------+---------+------------+-------------------+----------------------+----------+----------------------+--------------------+-----------------+--------------------+--------------+-------------+-----------+-------------+-----------+----------+-------+-------+---------+----------+--------+-------------+-----------+\n",
      "only showing top 5 rows\n",
      "\n"
     ]
    }
   ],
   "source": [
    "#full outer join\n",
    "full_outer=cust.join(sales, cust.CUST_ID==sales.CUST_ID, how='full')\n",
    "full_outer.show(5)"
   ]
  },
  {
   "cell_type": "code",
   "execution_count": 74,
   "metadata": {},
   "outputs": [
    {
     "name": "stdout",
     "output_type": "stream",
     "text": [
      "+-------+---------------+--------------+-----------+------------------+-------------------+-------------------+----------------+---------+------------+-------------------+----------------------+----------+----------------------+--------------------+-----------------+--------------------+--------------+-------------+-----------+-------------+-----------+----------+-------+-------+---------+----------+--------+-------------+-----------+\n",
      "|CUST_ID|CUST_FIRST_NAME|CUST_LAST_NAME|CUST_GENDER|CUST_YEAR_OF_BIRTH|CUST_MARITAL_STATUS|CUST_STREET_ADDRESS|CUST_POSTAL_CODE|CUST_CITY|CUST_CITY_ID|CUST_STATE_PROVINCE|CUST_STATE_PROVINCE_ID|COUNTRY_ID|CUST_MAIN_PHONE_NUMBER|   CUST_INCOME_LEVEL|CUST_CREDIT_LIMIT|          CUST_EMAIL|    CUST_TOTAL|CUST_TOTAL_ID|CUST_SRC_ID|CUST_EFF_FROM|CUST_EFF_TO|CUST_VALID|PROD_ID|CUST_ID|  TIME_ID|CHANNEL_ID|PROMO_ID|QUANTITY_SOLD|AMOUNT_SOLD|\n",
      "+-------+---------------+--------------+-----------+------------------+-------------------+-------------------+----------------+---------+------------+-------------------+----------------------+----------+----------------------+--------------------+-----------------+--------------------+--------------+-------------+-----------+-------------+-----------+----------+-------+-------+---------+----------+--------+-------------+-----------+\n",
      "|    148|           Riva|        Austin|          F|              1971|            married|1847 Such Boulevard|           66437|    Asten|       51075|      Noord-Brabant|                 52682|     52770|        (546) 476-8524|F: 110,000 - 129,999|             7000|riva.austin@compa...|Customer total|        52772|       null|    01-JAN-98|       null|         A|     18|    148|10-JUN-98|         2|     999|            1|    1378.25|\n",
      "|    148|           Riva|        Austin|          F|              1971|            married|1847 Such Boulevard|           66437|    Asten|       51075|      Noord-Brabant|                 52682|     52770|        (546) 476-8524|F: 110,000 - 129,999|             7000|riva.austin@compa...|Customer total|        52772|       null|    01-JAN-98|       null|         A|     29|    148|10-JUN-98|         4|     999|            1|     553.99|\n",
      "|    148|           Riva|        Austin|          F|              1971|            married|1847 Such Boulevard|           66437|    Asten|       51075|      Noord-Brabant|                 52682|     52770|        (546) 476-8524|F: 110,000 - 129,999|             7000|riva.austin@compa...|Customer total|        52772|       null|    01-JAN-98|       null|         A|    125|    148|11-MAY-98|         2|     999|            1|      16.42|\n",
      "|    148|           Riva|        Austin|          F|              1971|            married|1847 Such Boulevard|           66437|    Asten|       51075|      Noord-Brabant|                 52682|     52770|        (546) 476-8524|F: 110,000 - 129,999|             7000|riva.austin@compa...|Customer total|        52772|       null|    01-JAN-98|       null|         A|    126|    148|11-MAY-98|         4|     999|            1|      29.77|\n",
      "|    148|           Riva|        Austin|          F|              1971|            married|1847 Such Boulevard|           66437|    Asten|       51075|      Noord-Brabant|                 52682|     52770|        (546) 476-8524|F: 110,000 - 129,999|             7000|riva.austin@compa...|Customer total|        52772|       null|    01-JAN-98|       null|         A|    127|    148|11-MAY-98|         2|     999|            1|      38.84|\n",
      "+-------+---------------+--------------+-----------+------------------+-------------------+-------------------+----------------+---------+------------+-------------------+----------------------+----------+----------------------+--------------------+-----------------+--------------------+--------------+-------------+-----------+-------------+-----------+----------+-------+-------+---------+----------+--------+-------------+-----------+\n",
      "only showing top 5 rows\n",
      "\n"
     ]
    }
   ],
   "source": [
    "cross=cust.join(sales, cust.CUST_ID==sales.CUST_ID, how='cross')\n",
    "cross.show(5)"
   ]
  },
  {
   "cell_type": "code",
   "execution_count": 85,
   "metadata": {},
   "outputs": [
    {
     "name": "stdout",
     "output_type": "stream",
     "text": [
      "+----------+------------+-------------+----------------+-------------+----------------+\n",
      "|CHANNEL_ID|CHANNEL_DESC|CHANNEL_CLASS|CHANNEL_CLASS_ID|CHANNEL_TOTAL|CHANNEL_TOTAL_ID|\n",
      "+----------+------------+-------------+----------------+-------------+----------------+\n",
      "|         3|Direct Sales|       Direct|              12|Channel total|               1|\n",
      "|         9|  Tele Sales|       Direct|              12|Channel total|               1|\n",
      "|         5|     Catalog|     Indirect|              13|Channel total|               1|\n",
      "|         4|    Internet|     Indirect|              13|Channel total|               1|\n",
      "|         2|    Partners|       Others|              14|Channel total|               1|\n",
      "+----------+------------+-------------+----------------+-------------+----------------+\n",
      "\n"
     ]
    }
   ],
   "source": [
    "chan=spark.read.csv(\"D:\\python coding\\pyspark_tutorial\\channels.csv\",inferSchema=True,header=True)\n",
    "chan.show(5)"
   ]
  },
  {
   "cell_type": "code",
   "execution_count": 90,
   "metadata": {},
   "outputs": [
    {
     "name": "stdout",
     "output_type": "stream",
     "text": [
      "+-------+---------------+--------------+-----------+------------------+-------------------+--------------------+----------------+---------+------------+-------------------+----------------------+----------+----------------------+--------------------+-----------------+------------------+--------------+-------------+-----------+-------------+-----------+----------+-------+-------+---------+----------+--------+-------------+-----------+----------+------------+-------------+----------------+-------------+----------------+\n",
      "|CUST_ID|CUST_FIRST_NAME|CUST_LAST_NAME|CUST_GENDER|CUST_YEAR_OF_BIRTH|CUST_MARITAL_STATUS| CUST_STREET_ADDRESS|CUST_POSTAL_CODE|CUST_CITY|CUST_CITY_ID|CUST_STATE_PROVINCE|CUST_STATE_PROVINCE_ID|COUNTRY_ID|CUST_MAIN_PHONE_NUMBER|   CUST_INCOME_LEVEL|CUST_CREDIT_LIMIT|        CUST_EMAIL|    CUST_TOTAL|CUST_TOTAL_ID|CUST_SRC_ID|CUST_EFF_FROM|CUST_EFF_TO|CUST_VALID|PROD_ID|CUST_ID|  TIME_ID|CHANNEL_ID|PROMO_ID|QUANTITY_SOLD|AMOUNT_SOLD|CHANNEL_ID|CHANNEL_DESC|CHANNEL_CLASS|CHANNEL_CLASS_ID|CHANNEL_TOTAL|CHANNEL_TOTAL_ID|\n",
      "+-------+---------------+--------------+-----------+------------------+-------------------+--------------------+----------------+---------+------------+-------------------+----------------------+----------+----------------------+--------------------+-----------------+------------------+--------------+-------------+-----------+-------------+-----------+----------+-------+-------+---------+----------+--------+-------------+-----------+----------+------------+-------------+----------------+-------------+----------------+\n",
      "|   2380|         Baxter|        Barlow|          M|              1974|             single|37 East Las Piedr...|           43660| Sabadell|       52278|          Barcelona|                 52560|     52778|          329-157-9648|K: 250,000 - 299,999|             9000|Barlow@company.com|Customer total|        52772|       null|    01-JAN-98|       null|         A|     13|   2380|10-JAN-98|         3|     999|            1|    1232.16|         3|Direct Sales|       Direct|              12|Channel total|               1|\n",
      "|   2380|         Baxter|        Barlow|          M|              1974|             single|37 East Las Piedr...|           43660| Sabadell|       52278|          Barcelona|                 52560|     52778|          329-157-9648|K: 250,000 - 299,999|             9000|Barlow@company.com|Customer total|        52772|       null|    01-JAN-98|       null|         A|     13|   2380|10-MAR-98|         3|     999|            1|    1232.99|         3|Direct Sales|       Direct|              12|Channel total|               1|\n",
      "|   2380|         Baxter|        Barlow|          M|              1974|             single|37 East Las Piedr...|           43660| Sabadell|       52278|          Barcelona|                 52560|     52778|          329-157-9648|K: 250,000 - 299,999|             9000|Barlow@company.com|Customer total|        52772|       null|    01-JAN-98|       null|         A|     14|   2380|05-FEB-98|         2|     999|            1|    1259.99|         2|    Partners|       Others|              14|Channel total|               1|\n",
      "|   2380|         Baxter|        Barlow|          M|              1974|             single|37 East Las Piedr...|           43660| Sabadell|       52278|          Barcelona|                 52560|     52778|          329-157-9648|K: 250,000 - 299,999|             9000|Barlow@company.com|Customer total|        52772|       null|    01-JAN-98|       null|         A|     14|   2380|05-FEB-98|         3|     999|            1|    1259.99|         3|Direct Sales|       Direct|              12|Channel total|               1|\n",
      "|   2380|         Baxter|        Barlow|          M|              1974|             single|37 East Las Piedr...|           43660| Sabadell|       52278|          Barcelona|                 52560|     52778|          329-157-9648|K: 250,000 - 299,999|             9000|Barlow@company.com|Customer total|        52772|       null|    01-JAN-98|       null|         A|     18|   2380|05-FEB-98|         3|     999|            1|    1728.99|         3|Direct Sales|       Direct|              12|Channel total|               1|\n",
      "|   2380|         Baxter|        Barlow|          M|              1974|             single|37 East Las Piedr...|           43660| Sabadell|       52278|          Barcelona|                 52560|     52778|          329-157-9648|K: 250,000 - 299,999|             9000|Barlow@company.com|Customer total|        52772|       null|    01-JAN-98|       null|         A|     23|   2380|10-FEB-98|         3|     999|            1|      23.75|         3|Direct Sales|       Direct|              12|Channel total|               1|\n",
      "|   2380|         Baxter|        Barlow|          M|              1974|             single|37 East Las Piedr...|           43660| Sabadell|       52278|          Barcelona|                 52560|     52778|          329-157-9648|K: 250,000 - 299,999|             9000|Barlow@company.com|Customer total|        52772|       null|    01-JAN-98|       null|         A|     25|   2380|10-FEB-98|         3|     999|            1|     126.55|         3|Direct Sales|       Direct|              12|Channel total|               1|\n",
      "|   2380|         Baxter|        Barlow|          M|              1974|             single|37 East Las Piedr...|           43660| Sabadell|       52278|          Barcelona|                 52560|     52778|          329-157-9648|K: 250,000 - 299,999|             9000|Barlow@company.com|Customer total|        52772|       null|    01-JAN-98|       null|         A|     26|   2380|10-FEB-98|         3|     999|            1|     167.99|         3|Direct Sales|       Direct|              12|Channel total|               1|\n",
      "|   2380|         Baxter|        Barlow|          M|              1974|             single|37 East Las Piedr...|           43660| Sabadell|       52278|          Barcelona|                 52560|     52778|          329-157-9648|K: 250,000 - 299,999|             9000|Barlow@company.com|Customer total|        52772|       null|    01-JAN-98|       null|         A|     26|   2380|13-MAR-98|         3|     999|            1|     167.99|         3|Direct Sales|       Direct|              12|Channel total|               1|\n",
      "|   2380|         Baxter|        Barlow|          M|              1974|             single|37 East Las Piedr...|           43660| Sabadell|       52278|          Barcelona|                 52560|     52778|          329-157-9648|K: 250,000 - 299,999|             9000|Barlow@company.com|Customer total|        52772|       null|    01-JAN-98|       null|         A|     27|   2380|13-MAR-98|         3|     999|            1|      48.59|         3|Direct Sales|       Direct|              12|Channel total|               1|\n",
      "|   2380|         Baxter|        Barlow|          M|              1974|             single|37 East Las Piedr...|           43660| Sabadell|       52278|          Barcelona|                 52560|     52778|          329-157-9648|K: 250,000 - 299,999|             9000|Barlow@company.com|Customer total|        52772|       null|    01-JAN-98|       null|         A|     28|   2380|10-FEB-98|         3|     999|            1|     213.99|         3|Direct Sales|       Direct|              12|Channel total|               1|\n",
      "|   2380|         Baxter|        Barlow|          M|              1974|             single|37 East Las Piedr...|           43660| Sabadell|       52278|          Barcelona|                 52560|     52778|          329-157-9648|K: 250,000 - 299,999|             9000|Barlow@company.com|Customer total|        52772|       null|    01-JAN-98|       null|         A|     28|   2380|13-MAR-98|         3|     999|            1|     213.99|         3|Direct Sales|       Direct|              12|Channel total|               1|\n",
      "|   2380|         Baxter|        Barlow|          M|              1974|             single|37 East Las Piedr...|           43660| Sabadell|       52278|          Barcelona|                 52560|     52778|          329-157-9648|K: 250,000 - 299,999|             9000|Barlow@company.com|Customer total|        52772|       null|    01-JAN-98|       null|         A|     30|   2380|07-JAN-98|         3|     999|            1|      10.94|         3|Direct Sales|       Direct|              12|Channel total|               1|\n",
      "|   2380|         Baxter|        Barlow|          M|              1974|             single|37 East Las Piedr...|           43660| Sabadell|       52278|          Barcelona|                 52560|     52778|          329-157-9648|K: 250,000 - 299,999|             9000|Barlow@company.com|Customer total|        52772|       null|    01-JAN-98|       null|         A|     30|   2380|10-MAR-98|         3|     999|            1|      10.79|         3|Direct Sales|       Direct|              12|Channel total|               1|\n",
      "|   2380|         Baxter|        Barlow|          M|              1974|             single|37 East Las Piedr...|           43660| Sabadell|       52278|          Barcelona|                 52560|     52778|          329-157-9648|K: 250,000 - 299,999|             9000|Barlow@company.com|Customer total|        52772|       null|    01-JAN-98|       null|         A|     31|   2380|08-JAN-98|         3|     999|            1|       9.71|         3|Direct Sales|       Direct|              12|Channel total|               1|\n",
      "|   2380|         Baxter|        Barlow|          M|              1974|             single|37 East Las Piedr...|           43660| Sabadell|       52278|          Barcelona|                 52560|     52778|          329-157-9648|K: 250,000 - 299,999|             9000|Barlow@company.com|Customer total|        52772|       null|    01-JAN-98|       null|         A|     31|   2380|10-MAR-98|         3|     999|            1|       9.71|         3|Direct Sales|       Direct|              12|Channel total|               1|\n",
      "|   2380|         Baxter|        Barlow|          M|              1974|             single|37 East Las Piedr...|           43660| Sabadell|       52278|          Barcelona|                 52560|     52778|          329-157-9648|K: 250,000 - 299,999|             9000|Barlow@company.com|Customer total|        52772|       null|    01-JAN-98|       null|         A|     32|   2380|10-JAN-98|         3|     999|            1|      73.43|         3|Direct Sales|       Direct|              12|Channel total|               1|\n",
      "|   2380|         Baxter|        Barlow|          M|              1974|             single|37 East Las Piedr...|           43660| Sabadell|       52278|          Barcelona|                 52560|     52778|          329-157-9648|K: 250,000 - 299,999|             9000|Barlow@company.com|Customer total|        52772|       null|    01-JAN-98|       null|         A|     32|   2380|10-MAR-98|         3|     999|            1|      73.43|         3|Direct Sales|       Direct|              12|Channel total|               1|\n",
      "|   2380|         Baxter|        Barlow|          M|              1974|             single|37 East Las Piedr...|           43660| Sabadell|       52278|          Barcelona|                 52560|     52778|          329-157-9648|K: 250,000 - 299,999|             9000|Barlow@company.com|Customer total|        52772|       null|    01-JAN-98|       null|         A|     40|   2380|10-JAN-98|         3|     999|            1|      46.79|         3|Direct Sales|       Direct|              12|Channel total|               1|\n",
      "|   2380|         Baxter|        Barlow|          M|              1974|             single|37 East Las Piedr...|           43660| Sabadell|       52278|          Barcelona|                 52560|     52778|          329-157-9648|K: 250,000 - 299,999|             9000|Barlow@company.com|Customer total|        52772|       null|    01-JAN-98|       null|         A|     40|   2380|04-FEB-98|         3|     999|            1|      48.36|         3|Direct Sales|       Direct|              12|Channel total|               1|\n",
      "+-------+---------------+--------------+-----------+------------------+-------------------+--------------------+----------------+---------+------------+-------------------+----------------------+----------+----------------------+--------------------+-----------------+------------------+--------------+-------------+-----------+-------------+-----------+----------+-------+-------+---------+----------+--------+-------------+-----------+----------+------------+-------------+----------------+-------------+----------------+\n",
      "only showing top 20 rows\n",
      "\n"
     ]
    }
   ],
   "source": [
    "#multiple join conditions\n",
    "inter_join=cust.join(sales, cust.CUST_ID==sales.CUST_ID,how='inner')\n",
    "multiple_join=inter_join.join(chan, inter_join.CHANNEL_ID==chan.CHANNEL_ID, how='inner')\n",
    "#multiple_join.show(5)\n",
    "multiple_join.filter(cust.CUST_ID==2380).show() #no cust_id for 49671 so zero records"
   ]
  },
  {
   "cell_type": "code",
   "execution_count": 106,
   "metadata": {},
   "outputs": [],
   "source": [
    "emp_df1=spark.read.csv('D:\\\\python coding\\\\pyspark_tutorial\\\\emp.csv',inferSchema=True,header=True)\n",
    "e1=emp_df1.select('EMPNO','ENAME','MGR')\n",
    "\n",
    "emp_df2=spark.read.csv('D:\\\\python coding\\\\pyspark_tutorial\\\\emp.csv',inferSchema=True,header=True)\n",
    "e2=emp_df2.select('EMPNO','ENAME','MGR')"
   ]
  },
  {
   "cell_type": "code",
   "execution_count": 108,
   "metadata": {},
   "outputs": [
    {
     "name": "stdout",
     "output_type": "stream",
     "text": [
      "+-----+------+----+-----+-----+----+\n",
      "|EMPNO| ENAME| MGR|EMPNO|ENAME| MGR|\n",
      "+-----+------+----+-----+-----+----+\n",
      "| 7369| SMITH|7902| 7902| FORD|7566|\n",
      "| 7499| ALLEN|7698| 7698|BLAKE|7839|\n",
      "| 7521|  WARD|7698| 7698|BLAKE|7839|\n",
      "| 7566| JONES|7839| 7839| KING|null|\n",
      "| 7654|MARTIN|7698| 7698|BLAKE|7839|\n",
      "| 7698| BLAKE|7839| 7839| KING|null|\n",
      "| 7782| CLARK|7839| 7839| KING|null|\n",
      "| 7788| SCOTT|7566| 7566|JONES|7839|\n",
      "| 7844|TURNER|7698| 7698|BLAKE|7839|\n",
      "| 7876| ADAMS|7788| 7788|SCOTT|7566|\n",
      "| 7900| JAMES|7698| 7698|BLAKE|7839|\n",
      "| 7902|  FORD|7566| 7566|JONES|7839|\n",
      "| 7934|MILLER|7782| 7782|CLARK|7839|\n",
      "+-----+------+----+-----+-----+----+\n",
      "\n"
     ]
    }
   ],
   "source": [
    "#self-join\n",
    "self_join=e1.join(e2, e1.MGR==e2.EMPNO, how='inner')\n",
    "self_join.show()"
   ]
  },
  {
   "cell_type": "code",
   "execution_count": 110,
   "metadata": {},
   "outputs": [
    {
     "name": "stdout",
     "output_type": "stream",
     "text": [
      "+-----+------+----+\n",
      "|EMPNO| ENAME| MGR|\n",
      "+-----+------+----+\n",
      "| 7369| SMITH|7902|\n",
      "| 7499| ALLEN|7698|\n",
      "| 7521|  WARD|7698|\n",
      "| 7566| JONES|7839|\n",
      "| 7654|MARTIN|7698|\n",
      "| 7698| BLAKE|7839|\n",
      "| 7782| CLARK|7839|\n",
      "| 7788| SCOTT|7566|\n",
      "| 7839|  KING|null|\n",
      "| 7844|TURNER|7698|\n",
      "| 7876| ADAMS|7788|\n",
      "| 7900| JAMES|7698|\n",
      "| 7902|  FORD|7566|\n",
      "| 7934|MILLER|7782|\n",
      "| 7369| SMITH|7902|\n",
      "| 7499| ALLEN|7698|\n",
      "| 7521|  WARD|7698|\n",
      "| 7566| JONES|7839|\n",
      "| 7654|MARTIN|7698|\n",
      "| 7698| BLAKE|7839|\n",
      "+-----+------+----+\n",
      "only showing top 20 rows\n",
      "\n"
     ]
    }
   ],
   "source": [
    "#union operation\n",
    "union_df=e1.union(e2)\n",
    "union_df.show()"
   ]
  },
  {
   "cell_type": "code",
   "execution_count": 137,
   "metadata": {},
   "outputs": [
    {
     "name": "stdout",
     "output_type": "stream",
     "text": [
      "+-------+-------+---------+----------+--------+-------------+-----------+\n",
      "|PROD_ID|CUST_ID|  TIME_ID|CHANNEL_ID|PROMO_ID|QUANTITY_SOLD|AMOUNT_SOLD|\n",
      "+-------+-------+---------+----------+--------+-------------+-----------+\n",
      "|    128|  17942|01-JAN-98|         2|     999|            1|       29.8|\n",
      "|    128|    254|01-JAN-98|         3|     999|            1|      39.19|\n",
      "|    128|   1786|01-JAN-98|         3|     999|            1|      39.19|\n",
      "|    128|   1949|01-JAN-98|         3|     999|            1|      39.19|\n",
      "|    128|   1971|01-JAN-98|         3|     999|            1|      39.19|\n",
      "|    128|   2079|01-JAN-98|         3|     999|            1|      39.19|\n",
      "|    128|   2383|01-JAN-98|         3|     999|            1|      39.19|\n",
      "|    128|   2748|01-JAN-98|         3|     999|            1|      39.19|\n",
      "|    128|   3685|01-JAN-98|         3|     999|            1|      39.19|\n",
      "|    128|   3960|01-JAN-98|         3|     999|            1|      39.19|\n",
      "|    128|   4942|01-JAN-98|         3|     999|            1|      39.19|\n",
      "|    128|   5085|01-JAN-98|         3|     999|            1|      39.19|\n",
      "|    128|   5427|01-JAN-98|         3|     999|            1|      39.19|\n",
      "|    128|   6913|01-JAN-98|         3|     999|            1|      39.19|\n",
      "|    128|   7086|01-JAN-98|         3|     999|            1|      39.19|\n",
      "|    128|   7873|01-JAN-98|         3|     999|            1|      39.19|\n",
      "|    128|   8027|01-JAN-98|         3|     999|            1|      39.19|\n",
      "|    128|   8236|01-JAN-98|         3|     999|            1|      39.19|\n",
      "|    128|   8268|01-JAN-98|         3|     999|            1|      39.19|\n",
      "|    128|   8686|01-JAN-98|         3|     999|            1|      39.19|\n",
      "+-------+-------+---------+----------+--------+-------------+-----------+\n",
      "only showing top 20 rows\n",
      "\n"
     ]
    },
    {
     "data": {
      "text/plain": [
       "['PROD_ID',\n",
       " 'CUST_ID',\n",
       " 'TIME_ID',\n",
       " 'CHANNEL_ID',\n",
       " 'PROMO_ID',\n",
       " 'QUANTITY_SOLD',\n",
       " 'AMOUNT_SOLD']"
      ]
     },
     "execution_count": 137,
     "metadata": {},
     "output_type": "execute_result"
    }
   ],
   "source": [
    "#loading bigdata into memory using spark context\n",
    "sale_rdd=spark.read.csv(\"D:\\python coding\\pyspark_tutorial\\sales_big_data.csv\",inferSchema=True,header=True)\n",
    "#sale_rdd.filter(sale_rdd.PROD_ID==128)\n",
    "#sale_rdd.count()\n",
    "#sale_rdd.show()\n",
    "sale_rdd=sale_rdd.filter(sale_rdd.PROD_ID==128)\n",
    "sale_rdd.show()\n",
    "sale_rdd.rdd.id()\n",
    "sale_rdd.columns  #print the name of columns rpesent in dataframe\n"
   ]
  },
  {
   "cell_type": "code",
   "execution_count": 140,
   "metadata": {},
   "outputs": [
    {
     "name": "stdout",
     "output_type": "stream",
     "text": [
      "+-------+--------------------+------------------+------------------+\n",
      "|summary|             PROD_ID|           CUST_ID|       AMOUNT_SOLD|\n",
      "+-------+--------------------+------------------+------------------+\n",
      "|  count|               96165|             96165|             96165|\n",
      "|   mean|               128.0| 7815.529766547081| 32.11835283107212|\n",
      "| stddev|1.144599793453653...|12041.951696347629|3.9918085633907463|\n",
      "|    min|                 128|                 2|             25.72|\n",
      "|    max|                 128|            100994|             39.74|\n",
      "+-------+--------------------+------------------+------------------+\n",
      "\n"
     ]
    }
   ],
   "source": [
    "sale_rdd.describe()\n",
    "#creates a new rdd from an existing rdd\n",
    "sale_new_rdd=sale_rdd.select('PROD_ID','CUST_ID','AMOUNT_SOLD')\n",
    "#describe return a dataframe which contains a stats of dataframe\n",
    "sale_new_rdd.describe().show()"
   ]
  },
  {
   "cell_type": "code",
   "execution_count": 22,
   "metadata": {},
   "outputs": [
    {
     "name": "stdout",
     "output_type": "stream",
     "text": [
      "+-----+------+---------+----+---------+----+----+------+\n",
      "|EMPNO| ENAME|      JOB| MGR| HIREDATE| SAL|COMM|DEPTNO|\n",
      "+-----+------+---------+----+---------+----+----+------+\n",
      "| 7369| SMITH|    CLERK|7902|17-DEC-80| 800|null|    20|\n",
      "| 7499| ALLEN| SALESMAN|7698|20-FEB-81|1600| 300|    30|\n",
      "| 7521|  WARD| SALESMAN|7698|22-FEB-81|1250| 500|    30|\n",
      "| 7566| JONES|  MANAGER|7839|02-APR-81|2975|null|    20|\n",
      "| 7654|MARTIN| SALESMAN|7698|28-SEP-81|1250|1400|    30|\n",
      "| 7698| BLAKE|  MANAGER|7839|01-MAY-81|2850|null|    30|\n",
      "| 7782| CLARK|  MANAGER|7839|09-JUN-81|2450|null|    10|\n",
      "| 7788| SCOTT|  ANALYST|7566|19-APR-87|3000|null|    20|\n",
      "| 7839|  KING|PRESIDENT|null|17-NOV-81|5000|null|    10|\n",
      "| 7844|TURNER| SALESMAN|7698|08-SEP-81|1500|   0|    30|\n",
      "| 7876| ADAMS|    CLERK|7788|23-MAY-87|1100|null|    20|\n",
      "| 7900| JAMES|    CLERK|7698|03-DEC-81| 950|null|    30|\n",
      "| 7902|  FORD|  ANALYST|7566|03-DEC-81|3000|null|    20|\n",
      "| 7934|MILLER|    CLERK|7782|23-JAN-82|1300|null|    10|\n",
      "+-----+------+---------+----+---------+----+----+------+\n",
      "\n",
      "+-------+------------------+-----+--------+-----------------+---------+------------------+-----------------+------------------+\n",
      "|summary|             EMPNO|ENAME|     JOB|              MGR| HIREDATE|               SAL|             COMM|            DEPTNO|\n",
      "+-------+------------------+-----+--------+-----------------+---------+------------------+-----------------+------------------+\n",
      "|  count|                14|   14|      14|               13|       14|                14|                4|                14|\n",
      "|   mean| 7726.571428571428| null|    null|7739.307692307692|     null| 2073.214285714286|            550.0|22.142857142857142|\n",
      "| stddev|178.29436087795625| null|    null|103.7146603389837|     null|1182.5032235162716|602.7713773341708| 8.017837257372733|\n",
      "|    min|              7369|ADAMS| ANALYST|             7566|01-MAY-81|               800|                0|                10|\n",
      "|    max|              7934| WARD|SALESMAN|             7902|28-SEP-81|              5000|             1400|                30|\n",
      "+-------+------------------+-----+--------+-----------------+---------+------------------+-----------------+------------------+\n",
      "\n"
     ]
    },
    {
     "data": {
      "text/plain": [
       "14"
      ]
     },
     "execution_count": 22,
     "metadata": {},
     "output_type": "execute_result"
    }
   ],
   "source": [
    "emp_rdd=spark.read.csv('D:\\\\python coding\\\\pyspark_tutorial\\\\emp.csv',inferSchema=True,header=True)\n",
    "emp_rdd.show()\n",
    "emp_rdd.describe().show() #show table statistical summary\n",
    "#spark count operation ignore nulls during count\n",
    "emp_rdd.select('COMM').count()\n",
    "#emp_rdd.select('COMM').sum()\n"
   ]
  },
  {
   "cell_type": "code",
   "execution_count": 15,
   "metadata": {},
   "outputs": [
    {
     "name": "stdout",
     "output_type": "stream",
     "text": [
      "+------+--------+\n",
      "|DEPTNO|sum(SAL)|\n",
      "+------+--------+\n",
      "|    20|   10875|\n",
      "|    10|    8750|\n",
      "|    30|    9400|\n",
      "+------+--------+\n",
      "\n"
     ]
    }
   ],
   "source": [
    "#RDDs group by operations\n",
    "#deptwise sum of salary\n",
    "sal_rdd=emp_rdd.select('DEPTNO','SAL')\n",
    "sal_grp=sal_rdd.groupBy('DEPTNO')\n",
    "sal_grp.agg({'SAL':'sum'}).show()"
   ]
  },
  {
   "cell_type": "code",
   "execution_count": 16,
   "metadata": {},
   "outputs": [
    {
     "name": "stdout",
     "output_type": "stream",
     "text": [
      "+------+--------+\n",
      "|DEPTNO|sum(SAL)|\n",
      "+------+--------+\n",
      "|    20|   10875|\n",
      "|    10|    8750|\n",
      "|    30|    9400|\n",
      "+------+--------+\n",
      "\n"
     ]
    }
   ],
   "source": [
    "#deptwise sum of salary of employees\n",
    "count_rdd=emp_rdd.select('DEPTNO','SAL')\n",
    "count_grp=count_rdd.groupBy('DEPTNO')\n",
    "count_grp.agg({'SAL':'sum'}).show()\n",
    "#emp_ct_join=emp_rdd.join(ct_rdd, emp_rdd.DEPTNO==ct_rdd.DEPTNO, how='inner')\n",
    "#emp_ct_join.show()\n",
    "#using sql inline view join data with original dataframe"
   ]
  },
  {
   "cell_type": "code",
   "execution_count": 166,
   "metadata": {},
   "outputs": [
    {
     "name": "stdout",
     "output_type": "stream",
     "text": [
      "+-----+------+---------+----+---------+----+----+------+\n",
      "|EMPNO| ENAME|      JOB| MGR| HIREDATE| SAL|COMM|DEPTNO|\n",
      "+-----+------+---------+----+---------+----+----+------+\n",
      "| 7369| SMITH|    CLERK|7902|17-DEC-80| 800|null|    20|\n",
      "| 7499| ALLEN| SALESMAN|7698|20-FEB-81|1600| 300|    30|\n",
      "| 7521|  WARD| SALESMAN|7698|22-FEB-81|1250| 500|    30|\n",
      "| 7566| JONES|  MANAGER|7839|02-APR-81|2975|null|    20|\n",
      "| 7654|MARTIN| SALESMAN|7698|28-SEP-81|1250|1400|    30|\n",
      "| 7698| BLAKE|  MANAGER|7839|01-MAY-81|2850|null|    30|\n",
      "| 7782| CLARK|  MANAGER|7839|09-JUN-81|2450|null|    10|\n",
      "| 7788| SCOTT|  ANALYST|7566|19-APR-87|3000|null|    20|\n",
      "| 7839|  KING|PRESIDENT|null|17-NOV-81|5000|null|    10|\n",
      "| 7844|TURNER| SALESMAN|7698|08-SEP-81|1500|   0|    30|\n",
      "| 7876| ADAMS|    CLERK|7788|23-MAY-87|1100|null|    20|\n",
      "| 7900| JAMES|    CLERK|7698|03-DEC-81| 950|null|    30|\n",
      "| 7902|  FORD|  ANALYST|7566|03-DEC-81|3000|null|    20|\n",
      "| 7934|MILLER|    CLERK|7782|23-JAN-82|1300|null|    10|\n",
      "+-----+------+---------+----+---------+----+----+------+\n",
      "\n"
     ]
    },
    {
     "data": {
      "text/plain": [
       "'SMITH'"
      ]
     },
     "execution_count": 166,
     "metadata": {},
     "output_type": "execute_result"
    }
   ],
   "source": [
    "#row object\n",
    "emp_rdd.show()\n",
    "emp_rdd.head(2) #will fetch first two rows of rdd\n",
    "emp_rdd.head(2)[0] # will fetch  elemnt present at 0th index position of above returned rows\n",
    "emp_rdd.head(2)[0][1] #will fetch first element of 2nd element of list"
   ]
  },
  {
   "cell_type": "code",
   "execution_count": 18,
   "metadata": {},
   "outputs": [
    {
     "name": "stdout",
     "output_type": "stream",
     "text": [
      "+-----+----+\n",
      "|EMPNO| SAL|\n",
      "+-----+----+\n",
      "| 7369| 800|\n",
      "| 7499|1600|\n",
      "| 7521|1250|\n",
      "| 7566|2975|\n",
      "| 7654|1250|\n",
      "| 7698|2850|\n",
      "| 7782|2450|\n",
      "| 7788|3000|\n",
      "| 7839|5000|\n",
      "| 7844|1500|\n",
      "| 7876|1100|\n",
      "| 7900| 950|\n",
      "| 7902|3000|\n",
      "| 7934|1300|\n",
      "+-----+----+\n",
      "\n",
      "+-----+------+---------+----+---------+----+----+------+-----------------+\n",
      "|EMPNO| ENAME|      JOB| MGR| HIREDATE| SAL|COMM|DEPTNO|         comm_sal|\n",
      "+-----+------+---------+----+---------+----+----+------+-----------------+\n",
      "| 7369| SMITH|    CLERK|7902|17-DEC-80| 800|null|    20|             null|\n",
      "| 7499| ALLEN| SALESMAN|7698|20-FEB-81|1600| 300|    30|533.3333333333333|\n",
      "| 7521|  WARD| SALESMAN|7698|22-FEB-81|1250| 500|    30|            250.0|\n",
      "| 7566| JONES|  MANAGER|7839|02-APR-81|2975|null|    20|             null|\n",
      "| 7654|MARTIN| SALESMAN|7698|28-SEP-81|1250|1400|    30|89.28571428571429|\n",
      "| 7698| BLAKE|  MANAGER|7839|01-MAY-81|2850|null|    30|             null|\n",
      "| 7782| CLARK|  MANAGER|7839|09-JUN-81|2450|null|    10|             null|\n",
      "| 7788| SCOTT|  ANALYST|7566|19-APR-87|3000|null|    20|             null|\n",
      "| 7839|  KING|PRESIDENT|null|17-NOV-81|5000|null|    10|             null|\n",
      "| 7844|TURNER| SALESMAN|7698|08-SEP-81|1500|   0|    30|             null|\n",
      "| 7876| ADAMS|    CLERK|7788|23-MAY-87|1100|null|    20|             null|\n",
      "| 7900| JAMES|    CLERK|7698|03-DEC-81| 950|null|    30|             null|\n",
      "| 7902|  FORD|  ANALYST|7566|03-DEC-81|3000|null|    20|             null|\n",
      "| 7934|MILLER|    CLERK|7782|23-JAN-82|1300|null|    10|             null|\n",
      "+-----+------+---------+----+---------+----+----+------+-----------------+\n",
      "\n"
     ]
    },
    {
     "ename": "AttributeError",
     "evalue": "'NoneType' object has no attribute 'show'",
     "output_type": "error",
     "traceback": [
      "\u001b[1;31m---------------------------------------------------------------------------\u001b[0m",
      "\u001b[1;31mAttributeError\u001b[0m                            Traceback (most recent call last)",
      "\u001b[1;32m<ipython-input-18-b824fa9cb927>\u001b[0m in \u001b[0;36m<module>\u001b[1;34m\u001b[0m\n\u001b[0;32m     10\u001b[0m \u001b[1;31m#withcolumnrenamed func is invalid\u001b[0m\u001b[1;33m\u001b[0m\u001b[1;33m\u001b[0m\u001b[1;33m\u001b[0m\u001b[0m\n\u001b[0;32m     11\u001b[0m \u001b[1;31m#emp_new_rdd.withColumnRenamed('comm_sal','sal_%').show()\u001b[0m\u001b[1;33m\u001b[0m\u001b[1;33m\u001b[0m\u001b[1;33m\u001b[0m\u001b[0m\n\u001b[1;32m---> 12\u001b[1;33m \u001b[0memp_new_rdd\u001b[0m\u001b[1;33m.\u001b[0m\u001b[0mshow\u001b[0m\u001b[1;33m(\u001b[0m\u001b[1;33m)\u001b[0m\u001b[1;33m\u001b[0m\u001b[1;33m\u001b[0m\u001b[0m\n\u001b[0m",
      "\u001b[1;31mAttributeError\u001b[0m: 'NoneType' object has no attribute 'show'"
     ]
    }
   ],
   "source": [
    "#show select columns of rdd using select method\n",
    "emp_rdd.select('EMPNO','SAL').show()\n",
    "\n",
    "#add a new column to a rdd\n",
    "#withColumn method returns a new rdd or dataframe \n",
    "#can alos perform mathematical operation such as mult or sum\n",
    "emp_new_rdd=emp_rdd.withColumn('comm_sal',(emp_rdd['sal']/emp_rdd['comm'])*100).show()\n",
    "\n",
    "#rename a column\n",
    "#withcolumnrenamed func is invalid\n",
    "#emp_new_rdd.withColumnRenamed('comm_sal','sal_%').show()\n"
   ]
  },
  {
   "cell_type": "code",
   "execution_count": 201,
   "metadata": {},
   "outputs": [
    {
     "name": "stdout",
     "output_type": "stream",
     "text": [
      "+-----+------+------+----+\n",
      "|EMPNO| ENAME|DEPTNO| SAL|\n",
      "+-----+------+------+----+\n",
      "| 7499| ALLEN|    30|1600|\n",
      "| 7521|  WARD|    30|1250|\n",
      "| 7654|MARTIN|    30|1250|\n",
      "| 7698| BLAKE|    30|2850|\n",
      "| 7844|TURNER|    30|1500|\n",
      "| 7900| JAMES|    30| 950|\n",
      "+-----+------+------+----+\n",
      "\n",
      "+------+-----+\n",
      "|DEPTNO|count|\n",
      "+------+-----+\n",
      "|    20|    5|\n",
      "|    10|    3|\n",
      "|    30|    6|\n",
      "+------+-----+\n",
      "\n",
      "+------+--------+\n",
      "|DEPTNO|sum(SAL)|\n",
      "+------+--------+\n",
      "|    20|   10875|\n",
      "|    10|    8750|\n",
      "|    30|    9400|\n",
      "+------+--------+\n",
      "\n"
     ]
    }
   ],
   "source": [
    "#filter data with selective columns to display\n",
    "emp_30=emp_rdd.filter(emp_rdd.DEPTNO==30).select('EMPNO','ENAME','DEPTNO','SAL').show()\n",
    "\n",
    "#group by data\n",
    "emp_rdd.groupBy('DEPTNO').count().show() #count will work fine\n",
    "#emp_rdd.groupBy('DEPTNO').sum().show() #but with this syntax output will not be as desired\n",
    "#above issue is fixed by below syntax\n",
    "emp_sal=emp_rdd.select('DEPTNO','SAL')\n",
    "emp_grp=emp_sal.groupBy('DEPTNO')\n",
    "emp_grp.agg({'SAL':'sum'}).show()\n"
   ]
  },
  {
   "cell_type": "code",
   "execution_count": 210,
   "metadata": {},
   "outputs": [
    {
     "name": "stdout",
     "output_type": "stream",
     "text": [
      "+-------+-------+---------+----------+--------+-------------+-----------+\n",
      "|PROD_ID|CUST_ID|  TIME_ID|CHANNEL_ID|PROMO_ID|QUANTITY_SOLD|AMOUNT_SOLD|\n",
      "+-------+-------+---------+----------+--------+-------------+-----------+\n",
      "|     13|    987|10-JAN-98|         3|     999|            1|    1232.16|\n",
      "|     13|   1660|10-JAN-98|         3|     999|            1|    1232.16|\n",
      "|     13|   1762|10-JAN-98|         3|     999|            1|    1232.16|\n",
      "|     13|   1843|10-JAN-98|         3|     999|            1|    1232.16|\n",
      "|     13|   1948|10-JAN-98|         3|     999|            1|    1232.16|\n",
      "|     13|   2273|10-JAN-98|         3|     999|            1|    1232.16|\n",
      "|     13|   2380|10-JAN-98|         3|     999|            1|    1232.16|\n",
      "|     13|   2683|10-JAN-98|         3|     999|            1|    1232.16|\n",
      "|     13|   2865|10-JAN-98|         3|     999|            1|    1232.16|\n",
      "|     13|   4663|10-JAN-98|         3|     999|            1|    1232.16|\n",
      "|     13|   5203|10-JAN-98|         3|     999|            1|    1232.16|\n",
      "|     13|   5321|10-JAN-98|         3|     999|            1|    1232.16|\n",
      "|     13|   5590|10-JAN-98|         3|     999|            1|    1232.16|\n",
      "|     13|   6277|10-JAN-98|         3|     999|            1|    1232.16|\n",
      "|     13|   6859|10-JAN-98|         3|     999|            1|    1232.16|\n",
      "|     13|   8540|10-JAN-98|         3|     999|            1|    1232.16|\n",
      "|     13|   9076|10-JAN-98|         3|     999|            1|    1232.16|\n",
      "|     13|  12099|10-JAN-98|         3|     999|            1|    1232.16|\n",
      "|     13|  35834|10-JAN-98|         3|     999|            1|    1232.16|\n",
      "|     13|    524|20-JAN-98|         2|     999|            1|    1205.99|\n",
      "+-------+-------+---------+----------+--------+-------------+-----------+\n",
      "only showing top 20 rows\n",
      "\n",
      "+-----------------------+\n",
      "|count(DISTINCT PROD_ID)|\n",
      "+-----------------------+\n",
      "|                     72|\n",
      "+-----------------------+\n",
      "\n",
      "+------------------+\n",
      "|     AVERAGE_SALES|\n",
      "+------------------+\n",
      "|106.87988177524083|\n",
      "+------------------+\n",
      "\n",
      "+-------+------------------+\n",
      "|CUST_ID|  sum(AMOUNT_SOLD)|\n",
      "+-------+------------------+\n",
      "|   1580| 51631.79999999999|\n",
      "|   1959|169312.75000000006|\n",
      "|   2142| 139691.4000000001|\n",
      "|  33722|  93086.5500000001|\n",
      "|  33717|32266.849999999984|\n",
      "|   7993| 245281.7499999999|\n",
      "|   1591|196730.89999999997|\n",
      "|   2866| 90010.45000000004|\n",
      "|   8638|202157.04999999987|\n",
      "|   7554|207733.05000000005|\n",
      "|   3794|38171.849999999984|\n",
      "|   1342| 51206.39999999999|\n",
      "|   1645| 41696.60000000002|\n",
      "|   9465| 20534.90000000001|\n",
      "|   3997| 48892.70000000003|\n",
      "|   7340|32416.000000000004|\n",
      "|   4900|233052.65000000008|\n",
      "|   7240|199544.69999999998|\n",
      "|  11141|62859.600000000035|\n",
      "|    463| 42749.70000000001|\n",
      "+-------+------------------+\n",
      "only showing top 20 rows\n",
      "\n"
     ]
    }
   ],
   "source": [
    "#count distinct values\n",
    "from pyspark.sql.functions import countDistinct,stddev,avg\n",
    "sales_df.show()\n",
    "sales_df.select('PROD_ID').count() #values 4594215\n",
    "sales_df.select(countDistinct('PROD_ID')).show() #distinct valu for prod_id 72\n",
    "sales_df.select(avg('AMOUNT_SOLD').alias('AVERAGE_SALES')).show()\n",
    "\n",
    "#sales value on basis of cust_id\n",
    "sales_rdd=sales_df.select('CUST_ID','AMOUNT_SOLD')\n",
    "sales_grp=sales_rdd.groupBy('CUST_ID')\n",
    "sales_grp.agg({'AMOUNT_SOLD':'sum'}).show()"
   ]
  },
  {
   "cell_type": "code",
   "execution_count": 212,
   "metadata": {},
   "outputs": [
    {
     "name": "stdout",
     "output_type": "stream",
     "text": [
      "+-------+-------+---------+----------+--------+-------------+-----------+\n",
      "|PROD_ID|CUST_ID|  TIME_ID|CHANNEL_ID|PROMO_ID|QUANTITY_SOLD|AMOUNT_SOLD|\n",
      "+-------+-------+---------+----------+--------+-------------+-----------+\n",
      "|     18|      2|04-APR-01|         3|     999|            1|    1469.89|\n",
      "|     18|      2|05-MAY-01|         3|     999|            1|    1466.98|\n",
      "|     18|      2|04-JUN-01|         2|     999|            1|     1514.8|\n",
      "|     18|      2|05-MAY-01|         4|     999|            1|    1381.32|\n",
      "|     18|      2|04-JUN-01|         3|     999|            1|    1522.41|\n",
      "|     18|      2|05-JAN-01|         3|     999|            1|    1538.01|\n",
      "|     18|      2|05-MAR-01|         3|     999|            1|    1499.63|\n",
      "|     18|      2|05-MAR-01|         4|     999|            1|    1434.61|\n",
      "|     18|      2|05-MAR-01|         4|     999|            1|    1434.61|\n",
      "|     18|      2|05-JAN-01|         3|     999|            1|    1538.01|\n",
      "|     18|      2|05-SEP-01|         3|     999|            1|    1499.06|\n",
      "|     18|      2|05-SEP-01|         2|     999|            1|    1491.56|\n",
      "|     18|      2|05-MAY-01|         4|     999|            1|    1381.32|\n",
      "|     18|      2|04-JUN-01|         3|     999|            1|    1522.41|\n",
      "|     18|      2|05-JAN-01|         2|     999|            1|    1545.78|\n",
      "|     18|      2|05-MAY-01|         3|     999|            1|    1466.98|\n",
      "|     18|      2|05-MAR-01|         3|     999|            1|    1499.63|\n",
      "|     18|      2|04-JUN-01|         2|     999|            1|     1514.8|\n",
      "|     18|      2|04-APR-01|         3|     999|            1|    1469.89|\n",
      "|     18|      2|05-SEP-01|         4|     999|            1|    1204.26|\n",
      "+-------+-------+---------+----------+--------+-------------+-----------+\n",
      "only showing top 20 rows\n",
      "\n",
      "+-------+-------+---------+----------+--------+-------------+-----------+\n",
      "|PROD_ID|CUST_ID|  TIME_ID|CHANNEL_ID|PROMO_ID|QUANTITY_SOLD|AMOUNT_SOLD|\n",
      "+-------+-------+---------+----------+--------+-------------+-----------+\n",
      "|    116| 101000|30-JUN-00|         4|     350|            1|      11.99|\n",
      "|     27| 101000|30-JUN-00|         4|     350|            1|      44.99|\n",
      "|    116| 101000|30-JUN-00|         4|     350|            1|      11.99|\n",
      "|     48| 101000|30-JUN-00|         4|     350|            1|      11.99|\n",
      "|     27| 101000|30-JUN-00|         4|     350|            1|      44.99|\n",
      "|     48| 101000|30-JUN-00|         4|     350|            1|      11.99|\n",
      "|     48| 101000|30-JUN-00|         4|     350|            1|      11.99|\n",
      "|     48| 101000|30-JUN-00|         4|     350|            1|      11.99|\n",
      "|     27| 101000|30-JUN-00|         4|     350|            1|      44.99|\n",
      "|     27| 101000|30-JUN-00|         4|     350|            1|      44.99|\n",
      "|     27| 101000|30-JUN-00|         4|     350|            1|      44.99|\n",
      "|     48| 101000|30-JUN-00|         4|     350|            1|      11.99|\n",
      "|    116| 101000|30-JUN-00|         4|     350|            1|      11.99|\n",
      "|    116| 101000|30-JUN-00|         4|     350|            1|      11.99|\n",
      "|    116| 101000|30-JUN-00|         4|     350|            1|      11.99|\n",
      "|     26| 100999|30-JUN-00|         4|     350|            1|     149.99|\n",
      "|     35| 100999|30-JUN-00|         4|     350|            1|      49.99|\n",
      "|    116| 100999|30-JUN-00|         4|     350|            1|      11.99|\n",
      "|     35| 100999|30-JUN-00|         4|     350|            1|      49.99|\n",
      "|     26| 100999|30-JUN-00|         4|     350|            1|     149.99|\n",
      "+-------+-------+---------+----------+--------+-------------+-----------+\n",
      "only showing top 20 rows\n",
      "\n"
     ]
    }
   ],
   "source": [
    "#ordering data asc and desc \n",
    "sales_df.orderBy(\"CUST_ID\").show() #default syntax is for ascending order\n",
    "sales_df.orderBy(sales_df.CUST_ID.desc()).show() #ordering by descending"
   ]
  },
  {
   "cell_type": "code",
   "execution_count": 35,
   "metadata": {},
   "outputs": [
    {
     "name": "stdout",
     "output_type": "stream",
     "text": [
      "+-----+------+---------+----+---------+----+----+------+\n",
      "|EMPNO| ENAME|      JOB| MGR| HIREDATE| SAL|COMM|DEPTNO|\n",
      "+-----+------+---------+----+---------+----+----+------+\n",
      "| 7369| SMITH|    CLERK|7902|17-DEC-80| 800|null|    20|\n",
      "| 7499| ALLEN| SALESMAN|7698|20-FEB-81|1600| 300|    30|\n",
      "| 7521|  WARD| SALESMAN|7698|22-FEB-81|1250| 500|    30|\n",
      "| 7566| JONES|  MANAGER|7839|02-APR-81|2975|null|    20|\n",
      "| 7654|MARTIN| SALESMAN|7698|28-SEP-81|1250|1400|    30|\n",
      "| 7698| BLAKE|  MANAGER|7839|01-MAY-81|2850|null|    30|\n",
      "| 7782| CLARK|  MANAGER|7839|09-JUN-81|2450|null|    10|\n",
      "| 7788| SCOTT|  ANALYST|7566|19-APR-87|3000|null|    20|\n",
      "| 7839|  KING|PRESIDENT|null|17-NOV-81|5000|null|    10|\n",
      "| 7844|TURNER| SALESMAN|7698|08-SEP-81|1500|   0|    30|\n",
      "| 7876| ADAMS|    CLERK|7788|23-MAY-87|1100|null|    20|\n",
      "| 7900| JAMES|    CLERK|7698|03-DEC-81| 950|null|    30|\n",
      "| 7902|  FORD|  ANALYST|7566|03-DEC-81|3000|null|    20|\n",
      "| 7934|MILLER|    CLERK|7782|23-JAN-82|1300|null|    10|\n",
      "+-----+------+---------+----+---------+----+----+------+\n",
      "\n",
      "+-----+------+----+------+------+--------+\n",
      "|EMPNO| ENAME| SAL|DEPTNO|DEPTNO|sum(SAL)|\n",
      "+-----+------+----+------+------+--------+\n",
      "| 7369| SMITH| 800|    20|    20|   10875|\n",
      "| 7499| ALLEN|1600|    30|    30|    9400|\n",
      "| 7521|  WARD|1250|    30|    30|    9400|\n",
      "| 7566| JONES|2975|    20|    20|   10875|\n",
      "| 7654|MARTIN|1250|    30|    30|    9400|\n",
      "| 7698| BLAKE|2850|    30|    30|    9400|\n",
      "| 7782| CLARK|2450|    10|    10|    8750|\n",
      "| 7788| SCOTT|3000|    20|    20|   10875|\n",
      "| 7839|  KING|5000|    10|    10|    8750|\n",
      "| 7844|TURNER|1500|    30|    30|    9400|\n",
      "| 7876| ADAMS|1100|    20|    20|   10875|\n",
      "| 7900| JAMES| 950|    30|    30|    9400|\n",
      "| 7902|  FORD|3000|    20|    20|   10875|\n",
      "| 7934|MILLER|1300|    10|    10|    8750|\n",
      "+-----+------+----+------+------+--------+\n",
      "\n"
     ]
    },
    {
     "ename": "AttributeError",
     "evalue": "'GroupedData' object has no attribute 'join'",
     "output_type": "error",
     "traceback": [
      "\u001b[1;31m---------------------------------------------------------------------------\u001b[0m",
      "\u001b[1;31mAttributeError\u001b[0m                            Traceback (most recent call last)",
      "\u001b[1;32m<ipython-input-35-8cfd176559fd>\u001b[0m in \u001b[0;36m<module>\u001b[1;34m\u001b[0m\n\u001b[0;32m     17\u001b[0m \u001b[0mc1_sum\u001b[0m\u001b[1;33m=\u001b[0m\u001b[0mc1\u001b[0m\u001b[1;33m.\u001b[0m\u001b[0magg\u001b[0m\u001b[1;33m(\u001b[0m\u001b[1;33m{\u001b[0m\u001b[1;34m'COMM'\u001b[0m\u001b[1;33m:\u001b[0m\u001b[1;34m'sum'\u001b[0m\u001b[1;33m}\u001b[0m\u001b[1;33m)\u001b[0m\u001b[1;33m\u001b[0m\u001b[1;33m\u001b[0m\u001b[0m\n\u001b[0;32m     18\u001b[0m \u001b[0mcomm_grp\u001b[0m\u001b[1;33m=\u001b[0m\u001b[0mcomm_df\u001b[0m\u001b[1;33m.\u001b[0m\u001b[0mgroupBy\u001b[0m\u001b[1;33m(\u001b[0m\u001b[1;34m'DEPTNO'\u001b[0m\u001b[1;33m)\u001b[0m\u001b[1;33m\u001b[0m\u001b[1;33m\u001b[0m\u001b[0m\n\u001b[1;32m---> 19\u001b[1;33m \u001b[0mcomm_grp\u001b[0m\u001b[1;33m.\u001b[0m\u001b[0mjoin\u001b[0m\u001b[1;33m(\u001b[0m\u001b[0mc1_sum\u001b[0m\u001b[1;33m,\u001b[0m \u001b[0mcomm_grp\u001b[0m\u001b[1;33m.\u001b[0m\u001b[0mDEPTNO\u001b[0m\u001b[1;33m==\u001b[0m\u001b[0mc1_sum\u001b[0m\u001b[1;33m.\u001b[0m\u001b[0mDEPTNO\u001b[0m\u001b[1;33m)\u001b[0m\u001b[1;33m.\u001b[0m\u001b[0mshow\u001b[0m\u001b[1;33m(\u001b[0m\u001b[1;33m)\u001b[0m\u001b[1;33m\u001b[0m\u001b[1;33m\u001b[0m\u001b[0m\n\u001b[0m",
      "\u001b[1;31mAttributeError\u001b[0m: 'GroupedData' object has no attribute 'join'"
     ]
    }
   ],
   "source": [
    "e1=spark.read.csv('D:\\\\python coding\\\\pyspark_tutorial\\\\emp.csv',inferSchema=True,header=True)\n",
    "e1.show()\n",
    "\n",
    "e_df=e1.select('EMPNO','ENAME','SAL','DEPTNO')\n",
    "\n",
    "#sum of salary deptwise\n",
    "e2=e1.select('DEPTNO','SAL')\n",
    "emp_grp=e2.groupBy('DEPTNO')\n",
    "#oracle type inline view operation using join\n",
    "e_grp=emp_grp.agg({'SAL':'sum'})\n",
    "e_df.join(e_grp, e_df.DEPTNO==e_grp.DEPTNO,how='inner').show()\n",
    "\n",
    "comm_df=e1.select('DEPTNO','COMM')\n",
    "#replacing null values of comm with 0\n",
    "c1=comm_df.na.fill({'COMM': 0})\n",
    "#taking sum of comm values\n",
    "c1_sum=c1.agg({'COMM':'sum'})\n",
    "comm_grp=comm_df.groupBy('DEPTNO')\n",
    "#comm_grp.join(c1_sum, comm_grp.DEPTNO==c1_sum.DEPTNO).show()"
   ]
  }
 ],
 "metadata": {
  "kernelspec": {
   "display_name": "Python 3",
   "language": "python",
   "name": "python3"
  },
  "language_info": {
   "codemirror_mode": {
    "name": "ipython",
    "version": 3
   },
   "file_extension": ".py",
   "mimetype": "text/x-python",
   "name": "python",
   "nbconvert_exporter": "python",
   "pygments_lexer": "ipython3",
   "version": "3.7.3"
  }
 },
 "nbformat": 4,
 "nbformat_minor": 2
}
