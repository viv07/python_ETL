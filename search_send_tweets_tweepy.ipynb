{
 "cells": [
  {
   "cell_type": "code",
   "execution_count": 1,
   "metadata": {},
   "outputs": [],
   "source": [
    "import tweepy\n",
    "consumer_key='XXXXXXXXXXXXXXXXXXXXXX'\n",
    "consumer_secret='XXXXXXXXXXXXXXXXXXXXXXXXXX'\n",
    "access_token='XXXXXXXXXXXXXXXXXXXXXX'\n",
    "access_token_secret='XXXXXXXXXXXXXXXXXXXXXX'\n",
    "auth = tweepy.OAuthHandler(consumer_key, consumer_secret)\n",
    "# Setting your access token and secret\n",
    "auth.set_access_token(access_token, access_token_secret)\n",
    "# Creating the API object while passing in auth information\n",
    "api = tweepy.API(auth)"
   ]
  },
  {
   "cell_type": "code",
   "execution_count": 3,
   "metadata": {},
   "outputs": [
    {
     "name": "stdout",
     "output_type": "stream",
     "text": [
      "#JustIn | Supreme Court agrees to hear tomorrow the plea filed by Priyanka Sharma, BJP youth wing worker who was ar… https://t.co/NUMCbA6txU\n",
      "#IPL2019Final #CSKvMI #MIvsCSK #IPLFinal2019 \n",
      "\n",
      "Who's won more @IPL titles than @mipaltan?🏏\n",
      "\n",
      "@ImRo45 is one of four… https://t.co/89lb9g1Bc4\n",
      "Haryana woman votes just an hour after giving birth https://t.co/kacT16VLCd via @TOICitiesNews… https://t.co/FBxOm0dhE0\n",
      "‘Sold’ &amp; gang-raped, turned away by cops, widow burns herself \n",
      "\n",
      "Read: https://t.co/Eb7YXb8opn https://t.co/8WXYjSWWpG\n",
      "Delhi: Former ICICI Bank CEO and MD Chanda Kochhar arrives at the office of the Enforcement Directorate, in connect… https://t.co/fGUlrT9deA\n"
     ]
    }
   ],
   "source": [
    "#example1 search tweets for a particular username e.g timesofIndia\n",
    "name = \"timesofindia\"\n",
    "# Number of tweets to pull\n",
    "tweetCount = 5\n",
    "\n",
    "# Calling the user_timeline function with our parameters\n",
    "results = api.user_timeline(id=name, count=tweetCount)\n",
    "\n",
    "# foreach through all tweets pulled\n",
    "for tweet in results:\n",
    "   # printing the text stored inside the tweet object\n",
    "   print (tweet.text)\n"
   ]
  },
  {
   "cell_type": "code",
   "execution_count": 6,
   "metadata": {},
   "outputs": [
    {
     "name": "stdout",
     "output_type": "stream",
     "text": [
      "RT @preneet_kaur: I am grateful to all who came to join us at the public meeting organized at Dharampura, Banur. With your love, support an…\n",
      "RT @IndiaSpend: As new study says 5 million jobs lost in the 2 years following #demonetisation, we investigate the labour hubs of Punjab &amp;…\n",
      "RT @ECISVEEP: Six phases concluded successfully. Now setting the stage for #Phase7.\n",
      "#Bihar &amp; #Jharkhand will go to polls in next phase #Lok…\n",
      "RT @timesofindia: Haryana woman votes just an hour after giving birth https://t.co/kacT16VLCd via @TOICitiesNews \n",
      "\n",
      "#LokSabhaElections2019\n",
      "#…\n",
      "RT @RahulSinhaBJP: Glimpses from election campaign for #LokSabhaElections2019 \n",
      "\n",
      "#PhirEkBaarModiSarkar \n",
      "#RSCampaign2019 https://t.co/pTKgr3t…\n",
      "RT @KanchanGupta: One of the lasting memories of #LokSabhaElections2019 will be the Election Commission of #India's abject failure in condu…\n"
     ]
    }
   ],
   "source": [
    "#example2 search tweets on basis of hashtag\n",
    "hashtag='#LokSabhaElections2019'\n",
    "results=api.search(q=hashtag,lang=\"en\",count=10)\n",
    "\n",
    "for tweet in results:\n",
    "    print(tweet.text)"
   ]
  },
  {
   "cell_type": "code",
   "execution_count": 9,
   "metadata": {},
   "outputs": [
    {
     "name": "stdout",
     "output_type": "stream",
     "text": [
      "2019-05-13 11:15:29.569769\n"
     ]
    }
   ],
   "source": [
    "#Example3 to update status on twitter\n",
    "import datetime\n",
    "api.update_status(\"Time changing rapidly, AI will take over\")\n",
    "print(datetime.datetime.now())"
   ]
  },
  {
   "cell_type": "code",
   "execution_count": null,
   "metadata": {},
   "outputs": [],
   "source": []
  }
 ],
 "metadata": {
  "kernelspec": {
   "display_name": "Python 3",
   "language": "python",
   "name": "python3"
  },
  "language_info": {
   "codemirror_mode": {
    "name": "ipython",
    "version": 3
   },
   "file_extension": ".py",
   "mimetype": "text/x-python",
   "name": "python",
   "nbconvert_exporter": "python",
   "pygments_lexer": "ipython3",
   "version": "3.7.3"
  }
 },
 "nbformat": 4,
 "nbformat_minor": 2
}
